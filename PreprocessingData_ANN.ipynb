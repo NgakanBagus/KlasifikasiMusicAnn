{
  "cells": [
    {
      "cell_type": "markdown",
      "metadata": {
        "id": "Wf5KrEb6vrkR"
      },
      "source": [
        "<div class=\"markdown-google-sans\">\n",
        "  <h1>Selamat Datang di Colab!</h1>\n",
        "</div>\n",
        "\n",
        "<div class=\"markdown-google-sans\">\n",
        "  <h2>&#40;Baru&#41; Coba Gemini API</h2>\n",
        "  <ul>\n",
        "  <li><a href=\"https://makersuite.google.com/app/apikey\">Generate a Gemini API key</a></li>\n",
        "  <li><a href=\"https://colab.research.google.com/github/googlecolab/colabtools/blob/main/notebooks/Talk_to_Gemini_with_Google%27s_Speech_to_Text_API.ipynb?utm_medium=link&utm_campaign=gemini\">Talk to Gemini with the Speech-to-Text API</a></li>\n",
        "  <li><a href=\"https://colab.research.google.com/github/google/generative-ai-docs/blob/main/site/en/tutorials/quickstart_colab.ipynb?utm_medium=link&utm_campaign=gemini\">Gemini API: Quickstart with Python</a></li>\n",
        "  <li><a href=\"https://colab.research.google.com/notebooks/snippets/gemini.ipynb?utm_medium=link&utm_campaign=gemini\">Gemini API code sample</a></li>\n",
        "  <li><a href=\"https://colab.research.google.com/github/googlecolab/colabtools/blob/main/notebooks/Learning_with_Gemini_and_ChatGPT.ipynb?utm_medium=link&utm_campaign=gemini\">Compare Gemini with ChatGPT</a></li>  \n",
        "  <li><a href=\"https://colab.google/notebooks/?utm_medium=link&utm_campaign=gemini\">More notebooks</a></li>\n",
        "  </ul>\n",
        "</div>\n"
      ]
    },
    {
      "cell_type": "markdown",
      "source": [],
      "metadata": {
        "id": "JR3xhQLGCKXB"
      }
    },
    {
      "cell_type": "markdown",
      "metadata": {
        "id": "GJBs_flRovLc"
      },
      "source": [
        "<div class=\"markdown-google-sans\">\n",
        "\n",
        "## <strong>Memulai</strong>\n",
        "</div>\n",
        "\n",
        "Dokumen yang sedang Anda baca bukan halaman statis. Ini media interaktif bernama <strong>notebook Colab</strong> yang memungkinkan Anda menulis dan mengeksekusi kode.\n",
        "\n",
        "Misalnya, berikut ini <strong>kode sel</strong> dengan skrip Python pendek yang mengomputasi sebuah nilai, menyimpannya dalam suatu variabel, dan mencetak hasilnya:"
      ]
    },
    {
      "cell_type": "code",
      "execution_count": null,
      "metadata": {
        "colab": {
          "base_uri": "https://localhost:8080/",
          "height": 34
        },
        "id": "gJr_9dXGpJ05",
        "outputId": "9f556d03-ec67-4950-a485-cfdba9ddd14d"
      },
      "outputs": [
        {
          "data": {
            "text/plain": [
              "86400"
            ]
          },
          "execution_count": 0,
          "metadata": {
            "tags": []
          },
          "output_type": "execute_result"
        }
      ],
      "source": [
        "seconds_in_a_day = 24 * 60 * 60\n",
        "seconds_in_a_day"
      ]
    },
    {
      "cell_type": "markdown",
      "metadata": {
        "id": "2fhs6GZ4qFMx"
      },
      "source": [
        "Untuk mengeksekusi kode dalam sel di atas, pilih kode tersebut dengan mengkliknya, kemudian tekan tombol putar di sebelah kiri kode atau gunakan pintasan keyboard \"Command/Ctrl+Enter\". Untuk mengedit kode, cukup klik sel dan mulai pengeditan.\n",
        "\n",
        "Variabel yang Anda tentukan dalam sebuah sel nantinya dapat digunakan di sel lain:"
      ]
    },
    {
      "cell_type": "code",
      "execution_count": null,
      "metadata": {
        "colab": {
          "base_uri": "https://localhost:8080/",
          "height": 34
        },
        "id": "-gE-Ez1qtyIA",
        "outputId": "94cb2224-0edf-457b-90b5-0ac3488d8a97"
      },
      "outputs": [
        {
          "data": {
            "text/plain": [
              "604800"
            ]
          },
          "execution_count": 0,
          "metadata": {
            "tags": []
          },
          "output_type": "execute_result"
        }
      ],
      "source": [
        "seconds_in_a_week = 7 * seconds_in_a_day\n",
        "seconds_in_a_week"
      ]
    },
    {
      "cell_type": "markdown",
      "metadata": {
        "id": "lSrWNr3MuFUS"
      },
      "source": [
        "Notebook Colab memungkinkan Anda menggabungkan <strong>kode yang dapat dijalankan</strong> dan <strong>rich text</strong> dalam satu dokumen, beserta <strong>gambar</strong>, <strong>HTML</strong>, <strong>LaTeX</strong>, dan lainnya. Saat Anda membuat notebook Colab Anda sendiri, notebook tersebut akan disimpan di akun Google Drive Anda. Anda dapat dengan mudah membagikan notebook Colab Anda dengan rekan kerja atau teman, sehingga memungkinkan mereka memberikan komentar di notebook Anda atau bahkan mengeditnya. Untuk mempelajari lebih lanjut, buka <a href=\"/notebooks/basic_features_overview.ipynb\">Ringkasan Colab</a>. Untuk membuat notebook Colab baru, Anda dapat menggunakan menu File di atas, atau menggunakan link berikut: <a href=\"http://colab.research.google.com#create=true\">buat notebook Colab baru</a>.\n",
        "\n",
        "Notebook Colab adalah notebook Jupyter yang dihosting oleh Colab. Untuk mempelajari project Jupyter lebih lanjut, buka <a href=\"https://www.jupyter.org\">jupyter.org</a>."
      ]
    },
    {
      "cell_type": "markdown",
      "metadata": {
        "id": "UdRyKR44dcNI"
      },
      "source": [
        "<div class=\"markdown-google-sans\">\n",
        "\n",
        "## Ilmu data\n",
        "</div>\n",
        "\n",
        "Dengan Colab, Anda dapat memanfaatkan kecanggihan library Python yang populer untuk menganalisis dan memvisualisasikan data. Sel kode di bawah menggunakan <strong>numpy</strong> untuk menghasilkan beberapa data acak, dan menggunakan <strong>matplotlib</strong> untuk memvisualisasikannya. Untuk mengedit kode, cukup klik sel dan mulai pengeditan."
      ]
    },
    {
      "cell_type": "code",
      "execution_count": null,
      "metadata": {
        "colab": {
          "base_uri": "https://localhost:8080/",
          "height": 333
        },
        "id": "C4HZx7Gndbrh",
        "outputId": "f448aecd-dc02-4408-f688-7ecaf51361cf"
      },
      "outputs": [
        {
          "output_type": "display_data",
          "data": {
            "text/plain": [
              "<IPython.core.display.Markdown object>"
            ],
            "text/markdown": "![Sample Visualization](data:image/png;base64,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)"
          },
          "metadata": {}
        }
      ],
      "source": [
        "import numpy as np\n",
        "import IPython.display as display\n",
        "from matplotlib import pyplot as plt\n",
        "import io\n",
        "import base64\n",
        "\n",
        "ys = 200 + np.random.randn(100)\n",
        "x = [x for x in range(len(ys))]\n",
        "\n",
        "fig = plt.figure(figsize=(4, 3), facecolor='w')\n",
        "plt.plot(x, ys, '-')\n",
        "plt.fill_between(x, ys, 195, where=(ys > 195), facecolor='g', alpha=0.6)\n",
        "plt.title(\"Sample Visualization\", fontsize=10)\n",
        "\n",
        "data = io.BytesIO()\n",
        "plt.savefig(data)\n",
        "image = F\"data:image/png;base64,{base64.b64encode(data.getvalue()).decode()}\"\n",
        "alt = \"Sample Visualization\"\n",
        "display.display(display.Markdown(F\"\"\"![{alt}]({image})\"\"\"))\n",
        "plt.close(fig)"
      ]
    },
    {
      "cell_type": "markdown",
      "metadata": {
        "id": "4_kCnsPUqS6o"
      },
      "source": [
        "Anda dapat mengimpor data sendiri ke notebook Colab dari akun Google Drive Anda, termasuk dari spreadsheet, GitHub, dan berbagai sumber lainnya. Untuk mempelajari lebih lanjut pengimporan data dan bagaimana Colab dapat digunakan untuk ilmu data, lihat link di bawah pada bagian <a href=\"#working-with-data\">Bekerja dengan Data</a>."
      ]
    },
    {
      "cell_type": "markdown",
      "metadata": {
        "id": "OwuxHmxllTwN"
      },
      "source": [
        "<div class=\"markdown-google-sans\">\n",
        "\n",
        "## Machine learning\n",
        "</div>\n",
        "\n",
        "Dengan Colab Anda dapat mengimpor set data gambar, melatih pengklasifikasi gambar pada gambar tersebut, dan mengevaluasi model, semuanya hanya dengan <a href=\"https://colab.research.google.com/github/tensorflow/docs/blob/master/site/en/tutorials/quickstart/beginner.ipynb\">beberapa baris kode</a>. Notebook Colab mengeksekusi kode pada server cloud Google. Itu artinya Anda dapat memanfaatkan kecanggihan hardware Google, termasuk <a href=\"#using-accelerated-hardware\">GPU dan TPU</a>, terlepas dari mesin yang Anda gunakan. Yang Anda butuhkan hanyalah browser."
      ]
    },
    {
      "cell_type": "markdown",
      "metadata": {
        "id": "ufxBm1yRnruN"
      },
      "source": [
        "Colab digunakan secara luas di komunitas machine learning dengan berbagai penerapan meliputi:\n",
        "- Memulai TensorFlow\n",
        "- Mengembangkan dan melatih jaringan neural\n",
        "- Bereksperimen dengan TPU\n",
        "- Menyebarkan riset AI\n",
        "- Membuat tutorial\n",
        "\n",
        "Untuk melihat sampel notebook Colab yang menunjukkan penerapan machine learning, lihat <a href=\"#machine-learning-examples\">contoh machine learning</a> di bawah."
      ]
    },
    {
      "cell_type": "markdown",
      "metadata": {
        "id": "-Rh3-Vt9Nev9"
      },
      "source": [
        "<div class=\"markdown-google-sans\">\n",
        "\n",
        "## Referensi Lainnya\n",
        "\n",
        "### Bekerja dengan Notebook di Colab\n",
        "\n",
        "</div>\n",
        "\n",
        "- [Ringkasan Colaboratory](/notebooks/basic_features_overview.ipynb)\n",
        "- [Panduan tentang Markdown](/notebooks/markdown_guide.ipynb)\n",
        "- [Mengimpor library dan menginstal dependensi](/notebooks/snippets/importing_libraries.ipynb)\n",
        "- [Menyimpan dan memuat notebook di GitHub](https://colab.research.google.com/github/googlecolab/colabtools/blob/main/notebooks/colab-github-demo.ipynb)\n",
        "- [Formulir interaktif](/notebooks/forms.ipynb)\n",
        "- [Widget interaktif](/notebooks/widgets.ipynb)\n",
        "\n",
        "<div class=\"markdown-google-sans\">\n",
        "\n",
        "<a name=\"working-with-data\"></a>\n",
        "### Bekerja dengan Data\n",
        "</div>\n",
        "\n",
        "- [Memuat data: Drive, Spreadsheet, dan Google Cloud Storage](/notebooks/io.ipynb)\n",
        "- [Diagram: memvisualisasikan data](/notebooks/charts.ipynb)\n",
        "- [Memulai BigQuery](/notebooks/bigquery.ipynb)\n",
        "\n",
        "<div class=\"markdown-google-sans\">\n",
        "\n",
        "### Kursus Singkat Machine Learning\n",
        "\n",
        "<div>\n",
        "\n",
        "Berikut adalah beberapa notebook dari kursus Machine Learning online Google. Untuk info selengkapnya, buka <a href=\"https://developers.google.com/machine-learning/crash-course/\">situs kursus lengkap</a>.\n",
        "- [Pengantar Pandas DataFrame](https://colab.research.google.com/github/google/eng-edu/blob/main/ml/cc/exercises/pandas_dataframe_ultraquick_tutorial.ipynb)\n",
        "- [Regresi linear dengan tf.keras menggunakan data sintetis](https://colab.research.google.com/github/google/eng-edu/blob/main/ml/cc/exercises/linear_regression_with_synthetic_data.ipynb)\n",
        "\n",
        "<div class=\"markdown-google-sans\">\n",
        "\n",
        "<a name=\"using-accelerated-hardware\"></a>\n",
        "### Menggunakan Hardware yang Diakselerasi\n",
        "</div>\n",
        "\n",
        "- [TensorFlow dengan GPU](/notebooks/gpu.ipynb)\n",
        "- [TensorFlow dengan TPU](/notebooks/tpu.ipynb)"
      ]
    },
    {
      "cell_type": "markdown",
      "metadata": {
        "id": "P-H6Lw1vyNNd"
      },
      "source": [
        "<div class=\"markdown-google-sans\">\n",
        "\n",
        "<a name=\"machine-learning-examples\"></a>\n",
        "\n",
        "### Contoh bagus\n",
        "\n",
        "</div>\n",
        "\n",
        "- <a href=\"https://colab.research.google.com/github/NVIDIA/NeMo/blob/stable/tutorials/VoiceSwapSample.ipynb\">NeMo Voice Swap</a>: Gunakan Toolkit AI percakapan NeMo Nvidia untuk menukar suara dalam fragmen audio dengan suara yang dihasilkan komputer.\n",
        "\n",
        "- <a href=\"https://tensorflow.org/hub/tutorials/tf2_image_retraining\">Melatih Kembali Pengklasifikasi Gambar</a>: Membangun model Keras di atas pengklasifikasi gambar yang telah terlatih untuk membedakan berbagai bunga.\n",
        "- <a href=\"https://tensorflow.org/hub/tutorials/tf2_text_classification\">Klasifikasi Teks</a>: Mengklasifikasikan ulasan film IMDB, baik sebagai <em>positif</em> ataupun <em>negatif</em>.\n",
        "- <a href=\"https://tensorflow.org/hub/tutorials/tf2_arbitrary_image_stylization\">Transfer Gaya</a>: Menggunakan deep learning untuk mentransfer gaya antar-gambar.\n",
        "- <a href=\"https://tensorflow.org/hub/tutorials/retrieval_with_tf_hub_universal_encoder_qa\">Tanya Jawab Encoder Kalimat Universal Multibahasa</a>: Menggunakan model machine learning untuk menjawab pertanyaan dari set data SQuAD.\n",
        "- <a href=\"https://tensorflow.org/hub/tutorials/tweening_conv3d\">Jenis Interpolasi Video</a>: Memprediksi apa yang terjadi dalam suatu video antara bingkai pertama dan terakhir.\n"
      ]
    },
    {
      "cell_type": "code",
      "source": [
        "import pandas as pd\n",
        "import numpy as np\n",
        "import os\n",
        "import IPython.display as Ipd\n",
        "import librosa\n",
        "import librosa.display\n",
        "import matplotlib.pyplot as plt\n",
        "%matplotlib inline"
      ],
      "metadata": {
        "id": "fncv_gjQCn5J"
      },
      "execution_count": null,
      "outputs": []
    },
    {
      "cell_type": "code",
      "source": [
        "from google.colab import drive\n",
        "drive.mount('/content/drive')"
      ],
      "metadata": {
        "id": "Ia9t62dyonUb",
        "colab": {
          "base_uri": "https://localhost:8080/"
        },
        "outputId": "54081728-7e74-4702-f8a7-a4936fa4e854"
      },
      "execution_count": null,
      "outputs": [
        {
          "output_type": "stream",
          "name": "stdout",
          "text": [
            "Mounted at /content/drive\n"
          ]
        }
      ]
    },
    {
      "cell_type": "code",
      "source": [
        "audio_dataset_path='/content/drive/MyDrive/dataCNN/genres_original'\n",
        "metadata=pd.read_csv('/content/drive/MyDrive/dataCNN/features_30_sec.csv')\n",
        "metadata.head()"
      ],
      "metadata": {
        "colab": {
          "base_uri": "https://localhost:8080/",
          "height": 256
        },
        "id": "v4A00trgDzvA",
        "outputId": "8982ad66-86e6-4f9d-e326-b89367af018f"
      },
      "execution_count": null,
      "outputs": [
        {
          "output_type": "execute_result",
          "data": {
            "text/plain": [
              "          filename  length  chroma_stft_mean  chroma_stft_var  rms_mean  \\\n",
              "0  blues.00000.wav  661794          0.350088         0.088757  0.130228   \n",
              "1  blues.00001.wav  661794          0.340914         0.094980  0.095948   \n",
              "2  blues.00002.wav  661794          0.363637         0.085275  0.175570   \n",
              "3  blues.00003.wav  661794          0.404785         0.093999  0.141093   \n",
              "4  blues.00004.wav  661794          0.308526         0.087841  0.091529   \n",
              "\n",
              "    rms_var  spectral_centroid_mean  spectral_centroid_var  \\\n",
              "0  0.002827             1784.165850          129774.064525   \n",
              "1  0.002373             1530.176679          375850.073649   \n",
              "2  0.002746             1552.811865          156467.643368   \n",
              "3  0.006346             1070.106615          184355.942417   \n",
              "4  0.002303             1835.004266          343399.939274   \n",
              "\n",
              "   spectral_bandwidth_mean  spectral_bandwidth_var  ...  mfcc16_var  \\\n",
              "0              2002.449060            85882.761315  ...   52.420910   \n",
              "1              2039.036516           213843.755497  ...   55.356403   \n",
              "2              1747.702312            76254.192257  ...   40.598766   \n",
              "3              1596.412872           166441.494769  ...   44.427753   \n",
              "4              1748.172116            88445.209036  ...   86.099236   \n",
              "\n",
              "   mfcc17_mean  mfcc17_var  mfcc18_mean  mfcc18_var  mfcc19_mean  mfcc19_var  \\\n",
              "0    -1.690215   36.524071    -0.408979   41.597103    -2.303523   55.062923   \n",
              "1    -0.731125   60.314529     0.295073   48.120598    -0.283518   51.106190   \n",
              "2    -7.729093   47.639427    -1.816407   52.382141    -3.439720   46.639660   \n",
              "3    -3.319597   50.206673     0.636965   37.319130    -0.619121   37.259739   \n",
              "4    -5.454034   75.269707    -0.916874   53.613918    -4.404827   62.910812   \n",
              "\n",
              "   mfcc20_mean  mfcc20_var  label  \n",
              "0     1.221291   46.936035  blues  \n",
              "1     0.531217   45.786282  blues  \n",
              "2    -2.231258   30.573025  blues  \n",
              "3    -3.407448   31.949339  blues  \n",
              "4   -11.703234   55.195160  blues  \n",
              "\n",
              "[5 rows x 60 columns]"
            ],
            "text/html": [
              "\n",
              "  <div id=\"df-1533554e-cbe7-4138-a899-9922d2eff70b\" class=\"colab-df-container\">\n",
              "    <div>\n",
              "<style scoped>\n",
              "    .dataframe tbody tr th:only-of-type {\n",
              "        vertical-align: middle;\n",
              "    }\n",
              "\n",
              "    .dataframe tbody tr th {\n",
              "        vertical-align: top;\n",
              "    }\n",
              "\n",
              "    .dataframe thead th {\n",
              "        text-align: right;\n",
              "    }\n",
              "</style>\n",
              "<table border=\"1\" class=\"dataframe\">\n",
              "  <thead>\n",
              "    <tr style=\"text-align: right;\">\n",
              "      <th></th>\n",
              "      <th>filename</th>\n",
              "      <th>length</th>\n",
              "      <th>chroma_stft_mean</th>\n",
              "      <th>chroma_stft_var</th>\n",
              "      <th>rms_mean</th>\n",
              "      <th>rms_var</th>\n",
              "      <th>spectral_centroid_mean</th>\n",
              "      <th>spectral_centroid_var</th>\n",
              "      <th>spectral_bandwidth_mean</th>\n",
              "      <th>spectral_bandwidth_var</th>\n",
              "      <th>...</th>\n",
              "      <th>mfcc16_var</th>\n",
              "      <th>mfcc17_mean</th>\n",
              "      <th>mfcc17_var</th>\n",
              "      <th>mfcc18_mean</th>\n",
              "      <th>mfcc18_var</th>\n",
              "      <th>mfcc19_mean</th>\n",
              "      <th>mfcc19_var</th>\n",
              "      <th>mfcc20_mean</th>\n",
              "      <th>mfcc20_var</th>\n",
              "      <th>label</th>\n",
              "    </tr>\n",
              "  </thead>\n",
              "  <tbody>\n",
              "    <tr>\n",
              "      <th>0</th>\n",
              "      <td>blues.00000.wav</td>\n",
              "      <td>661794</td>\n",
              "      <td>0.350088</td>\n",
              "      <td>0.088757</td>\n",
              "      <td>0.130228</td>\n",
              "      <td>0.002827</td>\n",
              "      <td>1784.165850</td>\n",
              "      <td>129774.064525</td>\n",
              "      <td>2002.449060</td>\n",
              "      <td>85882.761315</td>\n",
              "      <td>...</td>\n",
              "      <td>52.420910</td>\n",
              "      <td>-1.690215</td>\n",
              "      <td>36.524071</td>\n",
              "      <td>-0.408979</td>\n",
              "      <td>41.597103</td>\n",
              "      <td>-2.303523</td>\n",
              "      <td>55.062923</td>\n",
              "      <td>1.221291</td>\n",
              "      <td>46.936035</td>\n",
              "      <td>blues</td>\n",
              "    </tr>\n",
              "    <tr>\n",
              "      <th>1</th>\n",
              "      <td>blues.00001.wav</td>\n",
              "      <td>661794</td>\n",
              "      <td>0.340914</td>\n",
              "      <td>0.094980</td>\n",
              "      <td>0.095948</td>\n",
              "      <td>0.002373</td>\n",
              "      <td>1530.176679</td>\n",
              "      <td>375850.073649</td>\n",
              "      <td>2039.036516</td>\n",
              "      <td>213843.755497</td>\n",
              "      <td>...</td>\n",
              "      <td>55.356403</td>\n",
              "      <td>-0.731125</td>\n",
              "      <td>60.314529</td>\n",
              "      <td>0.295073</td>\n",
              "      <td>48.120598</td>\n",
              "      <td>-0.283518</td>\n",
              "      <td>51.106190</td>\n",
              "      <td>0.531217</td>\n",
              "      <td>45.786282</td>\n",
              "      <td>blues</td>\n",
              "    </tr>\n",
              "    <tr>\n",
              "      <th>2</th>\n",
              "      <td>blues.00002.wav</td>\n",
              "      <td>661794</td>\n",
              "      <td>0.363637</td>\n",
              "      <td>0.085275</td>\n",
              "      <td>0.175570</td>\n",
              "      <td>0.002746</td>\n",
              "      <td>1552.811865</td>\n",
              "      <td>156467.643368</td>\n",
              "      <td>1747.702312</td>\n",
              "      <td>76254.192257</td>\n",
              "      <td>...</td>\n",
              "      <td>40.598766</td>\n",
              "      <td>-7.729093</td>\n",
              "      <td>47.639427</td>\n",
              "      <td>-1.816407</td>\n",
              "      <td>52.382141</td>\n",
              "      <td>-3.439720</td>\n",
              "      <td>46.639660</td>\n",
              "      <td>-2.231258</td>\n",
              "      <td>30.573025</td>\n",
              "      <td>blues</td>\n",
              "    </tr>\n",
              "    <tr>\n",
              "      <th>3</th>\n",
              "      <td>blues.00003.wav</td>\n",
              "      <td>661794</td>\n",
              "      <td>0.404785</td>\n",
              "      <td>0.093999</td>\n",
              "      <td>0.141093</td>\n",
              "      <td>0.006346</td>\n",
              "      <td>1070.106615</td>\n",
              "      <td>184355.942417</td>\n",
              "      <td>1596.412872</td>\n",
              "      <td>166441.494769</td>\n",
              "      <td>...</td>\n",
              "      <td>44.427753</td>\n",
              "      <td>-3.319597</td>\n",
              "      <td>50.206673</td>\n",
              "      <td>0.636965</td>\n",
              "      <td>37.319130</td>\n",
              "      <td>-0.619121</td>\n",
              "      <td>37.259739</td>\n",
              "      <td>-3.407448</td>\n",
              "      <td>31.949339</td>\n",
              "      <td>blues</td>\n",
              "    </tr>\n",
              "    <tr>\n",
              "      <th>4</th>\n",
              "      <td>blues.00004.wav</td>\n",
              "      <td>661794</td>\n",
              "      <td>0.308526</td>\n",
              "      <td>0.087841</td>\n",
              "      <td>0.091529</td>\n",
              "      <td>0.002303</td>\n",
              "      <td>1835.004266</td>\n",
              "      <td>343399.939274</td>\n",
              "      <td>1748.172116</td>\n",
              "      <td>88445.209036</td>\n",
              "      <td>...</td>\n",
              "      <td>86.099236</td>\n",
              "      <td>-5.454034</td>\n",
              "      <td>75.269707</td>\n",
              "      <td>-0.916874</td>\n",
              "      <td>53.613918</td>\n",
              "      <td>-4.404827</td>\n",
              "      <td>62.910812</td>\n",
              "      <td>-11.703234</td>\n",
              "      <td>55.195160</td>\n",
              "      <td>blues</td>\n",
              "    </tr>\n",
              "  </tbody>\n",
              "</table>\n",
              "<p>5 rows × 60 columns</p>\n",
              "</div>\n",
              "    <div class=\"colab-df-buttons\">\n",
              "\n",
              "  <div class=\"colab-df-container\">\n",
              "    <button class=\"colab-df-convert\" onclick=\"convertToInteractive('df-1533554e-cbe7-4138-a899-9922d2eff70b')\"\n",
              "            title=\"Convert this dataframe to an interactive table.\"\n",
              "            style=\"display:none;\">\n",
              "\n",
              "  <svg xmlns=\"http://www.w3.org/2000/svg\" height=\"24px\" viewBox=\"0 -960 960 960\">\n",
              "    <path d=\"M120-120v-720h720v720H120Zm60-500h600v-160H180v160Zm220 220h160v-160H400v160Zm0 220h160v-160H400v160ZM180-400h160v-160H180v160Zm440 0h160v-160H620v160ZM180-180h160v-160H180v160Zm440 0h160v-160H620v160Z\"/>\n",
              "  </svg>\n",
              "    </button>\n",
              "\n",
              "  <style>\n",
              "    .colab-df-container {\n",
              "      display:flex;\n",
              "      gap: 12px;\n",
              "    }\n",
              "\n",
              "    .colab-df-convert {\n",
              "      background-color: #E8F0FE;\n",
              "      border: none;\n",
              "      border-radius: 50%;\n",
              "      cursor: pointer;\n",
              "      display: none;\n",
              "      fill: #1967D2;\n",
              "      height: 32px;\n",
              "      padding: 0 0 0 0;\n",
              "      width: 32px;\n",
              "    }\n",
              "\n",
              "    .colab-df-convert:hover {\n",
              "      background-color: #E2EBFA;\n",
              "      box-shadow: 0px 1px 2px rgba(60, 64, 67, 0.3), 0px 1px 3px 1px rgba(60, 64, 67, 0.15);\n",
              "      fill: #174EA6;\n",
              "    }\n",
              "\n",
              "    .colab-df-buttons div {\n",
              "      margin-bottom: 4px;\n",
              "    }\n",
              "\n",
              "    [theme=dark] .colab-df-convert {\n",
              "      background-color: #3B4455;\n",
              "      fill: #D2E3FC;\n",
              "    }\n",
              "\n",
              "    [theme=dark] .colab-df-convert:hover {\n",
              "      background-color: #434B5C;\n",
              "      box-shadow: 0px 1px 3px 1px rgba(0, 0, 0, 0.15);\n",
              "      filter: drop-shadow(0px 1px 2px rgba(0, 0, 0, 0.3));\n",
              "      fill: #FFFFFF;\n",
              "    }\n",
              "  </style>\n",
              "\n",
              "    <script>\n",
              "      const buttonEl =\n",
              "        document.querySelector('#df-1533554e-cbe7-4138-a899-9922d2eff70b button.colab-df-convert');\n",
              "      buttonEl.style.display =\n",
              "        google.colab.kernel.accessAllowed ? 'block' : 'none';\n",
              "\n",
              "      async function convertToInteractive(key) {\n",
              "        const element = document.querySelector('#df-1533554e-cbe7-4138-a899-9922d2eff70b');\n",
              "        const dataTable =\n",
              "          await google.colab.kernel.invokeFunction('convertToInteractive',\n",
              "                                                    [key], {});\n",
              "        if (!dataTable) return;\n",
              "\n",
              "        const docLinkHtml = 'Like what you see? Visit the ' +\n",
              "          '<a target=\"_blank\" href=https://colab.research.google.com/notebooks/data_table.ipynb>data table notebook</a>'\n",
              "          + ' to learn more about interactive tables.';\n",
              "        element.innerHTML = '';\n",
              "        dataTable['output_type'] = 'display_data';\n",
              "        await google.colab.output.renderOutput(dataTable, element);\n",
              "        const docLink = document.createElement('div');\n",
              "        docLink.innerHTML = docLinkHtml;\n",
              "        element.appendChild(docLink);\n",
              "      }\n",
              "    </script>\n",
              "  </div>\n",
              "\n",
              "\n",
              "<div id=\"df-ebf1bde5-06d4-47df-967b-16107f3f5247\">\n",
              "  <button class=\"colab-df-quickchart\" onclick=\"quickchart('df-ebf1bde5-06d4-47df-967b-16107f3f5247')\"\n",
              "            title=\"Suggest charts\"\n",
              "            style=\"display:none;\">\n",
              "\n",
              "<svg xmlns=\"http://www.w3.org/2000/svg\" height=\"24px\"viewBox=\"0 0 24 24\"\n",
              "     width=\"24px\">\n",
              "    <g>\n",
              "        <path d=\"M19 3H5c-1.1 0-2 .9-2 2v14c0 1.1.9 2 2 2h14c1.1 0 2-.9 2-2V5c0-1.1-.9-2-2-2zM9 17H7v-7h2v7zm4 0h-2V7h2v10zm4 0h-2v-4h2v4z\"/>\n",
              "    </g>\n",
              "</svg>\n",
              "  </button>\n",
              "\n",
              "<style>\n",
              "  .colab-df-quickchart {\n",
              "      --bg-color: #E8F0FE;\n",
              "      --fill-color: #1967D2;\n",
              "      --hover-bg-color: #E2EBFA;\n",
              "      --hover-fill-color: #174EA6;\n",
              "      --disabled-fill-color: #AAA;\n",
              "      --disabled-bg-color: #DDD;\n",
              "  }\n",
              "\n",
              "  [theme=dark] .colab-df-quickchart {\n",
              "      --bg-color: #3B4455;\n",
              "      --fill-color: #D2E3FC;\n",
              "      --hover-bg-color: #434B5C;\n",
              "      --hover-fill-color: #FFFFFF;\n",
              "      --disabled-bg-color: #3B4455;\n",
              "      --disabled-fill-color: #666;\n",
              "  }\n",
              "\n",
              "  .colab-df-quickchart {\n",
              "    background-color: var(--bg-color);\n",
              "    border: none;\n",
              "    border-radius: 50%;\n",
              "    cursor: pointer;\n",
              "    display: none;\n",
              "    fill: var(--fill-color);\n",
              "    height: 32px;\n",
              "    padding: 0;\n",
              "    width: 32px;\n",
              "  }\n",
              "\n",
              "  .colab-df-quickchart:hover {\n",
              "    background-color: var(--hover-bg-color);\n",
              "    box-shadow: 0 1px 2px rgba(60, 64, 67, 0.3), 0 1px 3px 1px rgba(60, 64, 67, 0.15);\n",
              "    fill: var(--button-hover-fill-color);\n",
              "  }\n",
              "\n",
              "  .colab-df-quickchart-complete:disabled,\n",
              "  .colab-df-quickchart-complete:disabled:hover {\n",
              "    background-color: var(--disabled-bg-color);\n",
              "    fill: var(--disabled-fill-color);\n",
              "    box-shadow: none;\n",
              "  }\n",
              "\n",
              "  .colab-df-spinner {\n",
              "    border: 2px solid var(--fill-color);\n",
              "    border-color: transparent;\n",
              "    border-bottom-color: var(--fill-color);\n",
              "    animation:\n",
              "      spin 1s steps(1) infinite;\n",
              "  }\n",
              "\n",
              "  @keyframes spin {\n",
              "    0% {\n",
              "      border-color: transparent;\n",
              "      border-bottom-color: var(--fill-color);\n",
              "      border-left-color: var(--fill-color);\n",
              "    }\n",
              "    20% {\n",
              "      border-color: transparent;\n",
              "      border-left-color: var(--fill-color);\n",
              "      border-top-color: var(--fill-color);\n",
              "    }\n",
              "    30% {\n",
              "      border-color: transparent;\n",
              "      border-left-color: var(--fill-color);\n",
              "      border-top-color: var(--fill-color);\n",
              "      border-right-color: var(--fill-color);\n",
              "    }\n",
              "    40% {\n",
              "      border-color: transparent;\n",
              "      border-right-color: var(--fill-color);\n",
              "      border-top-color: var(--fill-color);\n",
              "    }\n",
              "    60% {\n",
              "      border-color: transparent;\n",
              "      border-right-color: var(--fill-color);\n",
              "    }\n",
              "    80% {\n",
              "      border-color: transparent;\n",
              "      border-right-color: var(--fill-color);\n",
              "      border-bottom-color: var(--fill-color);\n",
              "    }\n",
              "    90% {\n",
              "      border-color: transparent;\n",
              "      border-bottom-color: var(--fill-color);\n",
              "    }\n",
              "  }\n",
              "</style>\n",
              "\n",
              "  <script>\n",
              "    async function quickchart(key) {\n",
              "      const quickchartButtonEl =\n",
              "        document.querySelector('#' + key + ' button');\n",
              "      quickchartButtonEl.disabled = true;  // To prevent multiple clicks.\n",
              "      quickchartButtonEl.classList.add('colab-df-spinner');\n",
              "      try {\n",
              "        const charts = await google.colab.kernel.invokeFunction(\n",
              "            'suggestCharts', [key], {});\n",
              "      } catch (error) {\n",
              "        console.error('Error during call to suggestCharts:', error);\n",
              "      }\n",
              "      quickchartButtonEl.classList.remove('colab-df-spinner');\n",
              "      quickchartButtonEl.classList.add('colab-df-quickchart-complete');\n",
              "    }\n",
              "    (() => {\n",
              "      let quickchartButtonEl =\n",
              "        document.querySelector('#df-ebf1bde5-06d4-47df-967b-16107f3f5247 button');\n",
              "      quickchartButtonEl.style.display =\n",
              "        google.colab.kernel.accessAllowed ? 'block' : 'none';\n",
              "    })();\n",
              "  </script>\n",
              "</div>\n",
              "\n",
              "    </div>\n",
              "  </div>\n"
            ],
            "application/vnd.google.colaboratory.intrinsic+json": {
              "type": "dataframe",
              "variable_name": "metadata"
            }
          },
          "metadata": {},
          "execution_count": 3
        }
      ]
    },
    {
      "cell_type": "code",
      "source": [
        "def features_extractor(file):\n",
        "   audio, sample_rate= librosa.load(file_name, res_type='kaiser_fast')\n",
        "   mfccs_features = librosa.feature.mfcc(y=audio, sr=sample_rate, n_mfcc=40)\n",
        "   mfccs_scaled_features = np.mean(mfccs_features.T,axis=0)\n",
        "\n",
        "   return mfccs_scaled_features"
      ],
      "metadata": {
        "id": "ZzGm7_WKD-8X"
      },
      "execution_count": null,
      "outputs": []
    },
    {
      "cell_type": "code",
      "source": [
        " # metadata.drop(labels=552, axis=0, inplace=True)"
      ],
      "metadata": {
        "id": "g0h3tyiEHQPy"
      },
      "execution_count": null,
      "outputs": []
    },
    {
      "cell_type": "code",
      "source": [
        "from tqdm import tqdm\n",
        "extracted_features=[]\n",
        "for index_num, row in tqdm(metadata.iterrows()):\n",
        "  try:\n",
        "    final_class_labels=row[\"label\"]\n",
        "    file_name = os.path.join(os.path.abspath(audio_dataset_path), final_class_labels+\"/\",str(row[\"filename\"]))\n",
        "    data=features_extractor(file_name)\n",
        "    extracted_features.append([data,final_class_labels])\n",
        "  except Exception as e:\n",
        "    print(f\"Error: {e}\")\n",
        "    continue"
      ],
      "metadata": {
        "colab": {
          "base_uri": "https://localhost:8080/"
        },
        "id": "4DatjbJ2Hi4X",
        "outputId": "24f712ff-e14e-4752-81cf-a66d049089d8"
      },
      "execution_count": null,
      "outputs": [
        {
          "output_type": "stream",
          "name": "stderr",
          "text": [
            "554it [04:01,  2.62it/s]<ipython-input-4-86ff727f35e7>:2: UserWarning: PySoundFile failed. Trying audioread instead.\n",
            "  audio, sample_rate= librosa.load(file_name, res_type='kaiser_fast')\n",
            "/usr/local/lib/python3.10/dist-packages/librosa/core/audio.py:184: FutureWarning: librosa.core.audio.__audioread_load\n",
            "\tDeprecated as of librosa version 0.10.0.\n",
            "\tIt will be removed in librosa version 1.0.\n",
            "  y, sr_native = __audioread_load(path, offset, duration, dtype)\n",
            "555it [04:01,  2.31it/s]"
          ]
        },
        {
          "output_type": "stream",
          "name": "stdout",
          "text": [
            "Error: \n"
          ]
        },
        {
          "output_type": "stream",
          "name": "stderr",
          "text": [
            "1000it [06:47,  2.45it/s]\n"
          ]
        }
      ]
    },
    {
      "cell_type": "code",
      "source": [
        "data.shape"
      ],
      "metadata": {
        "colab": {
          "base_uri": "https://localhost:8080/"
        },
        "id": "njRppOXLzM7Y",
        "outputId": "c9efd7bb-dbec-43ec-efd6-e5b3f9c3b3d4"
      },
      "execution_count": null,
      "outputs": [
        {
          "output_type": "execute_result",
          "data": {
            "text/plain": [
              "(40,)"
            ]
          },
          "metadata": {},
          "execution_count": 7
        }
      ]
    },
    {
      "cell_type": "code",
      "source": [
        "extracted_features_df=pd.DataFrame(extracted_features, columns=['feature', 'class'])\n",
        "extracted_features_df.head()"
      ],
      "metadata": {
        "id": "zG8SHs6fIX4r",
        "colab": {
          "base_uri": "https://localhost:8080/",
          "height": 206
        },
        "outputId": "fe634d72-9c6c-45d5-b37c-034c7c38eafe"
      },
      "execution_count": null,
      "outputs": [
        {
          "output_type": "execute_result",
          "data": {
            "text/plain": [
              "                                             feature  class\n",
              "0  [-113.59882, 121.57067, -19.162262, 42.36394, ...  blues\n",
              "1  [-207.52383, 123.98514, 8.947019, 35.86715, 2....  blues\n",
              "2  [-90.757164, 140.44087, -29.084547, 31.686693,...  blues\n",
              "3  [-199.57513, 150.0861, 5.663404, 26.855282, 1....  blues\n",
              "4  [-160.35417, 126.20948, -35.581394, 22.139256,...  blues"
            ],
            "text/html": [
              "\n",
              "  <div id=\"df-9945d200-532e-456e-a7b7-4fba7d407882\" class=\"colab-df-container\">\n",
              "    <div>\n",
              "<style scoped>\n",
              "    .dataframe tbody tr th:only-of-type {\n",
              "        vertical-align: middle;\n",
              "    }\n",
              "\n",
              "    .dataframe tbody tr th {\n",
              "        vertical-align: top;\n",
              "    }\n",
              "\n",
              "    .dataframe thead th {\n",
              "        text-align: right;\n",
              "    }\n",
              "</style>\n",
              "<table border=\"1\" class=\"dataframe\">\n",
              "  <thead>\n",
              "    <tr style=\"text-align: right;\">\n",
              "      <th></th>\n",
              "      <th>feature</th>\n",
              "      <th>class</th>\n",
              "    </tr>\n",
              "  </thead>\n",
              "  <tbody>\n",
              "    <tr>\n",
              "      <th>0</th>\n",
              "      <td>[-113.59882, 121.57067, -19.162262, 42.36394, ...</td>\n",
              "      <td>blues</td>\n",
              "    </tr>\n",
              "    <tr>\n",
              "      <th>1</th>\n",
              "      <td>[-207.52383, 123.98514, 8.947019, 35.86715, 2....</td>\n",
              "      <td>blues</td>\n",
              "    </tr>\n",
              "    <tr>\n",
              "      <th>2</th>\n",
              "      <td>[-90.757164, 140.44087, -29.084547, 31.686693,...</td>\n",
              "      <td>blues</td>\n",
              "    </tr>\n",
              "    <tr>\n",
              "      <th>3</th>\n",
              "      <td>[-199.57513, 150.0861, 5.663404, 26.855282, 1....</td>\n",
              "      <td>blues</td>\n",
              "    </tr>\n",
              "    <tr>\n",
              "      <th>4</th>\n",
              "      <td>[-160.35417, 126.20948, -35.581394, 22.139256,...</td>\n",
              "      <td>blues</td>\n",
              "    </tr>\n",
              "  </tbody>\n",
              "</table>\n",
              "</div>\n",
              "    <div class=\"colab-df-buttons\">\n",
              "\n",
              "  <div class=\"colab-df-container\">\n",
              "    <button class=\"colab-df-convert\" onclick=\"convertToInteractive('df-9945d200-532e-456e-a7b7-4fba7d407882')\"\n",
              "            title=\"Convert this dataframe to an interactive table.\"\n",
              "            style=\"display:none;\">\n",
              "\n",
              "  <svg xmlns=\"http://www.w3.org/2000/svg\" height=\"24px\" viewBox=\"0 -960 960 960\">\n",
              "    <path d=\"M120-120v-720h720v720H120Zm60-500h600v-160H180v160Zm220 220h160v-160H400v160Zm0 220h160v-160H400v160ZM180-400h160v-160H180v160Zm440 0h160v-160H620v160ZM180-180h160v-160H180v160Zm440 0h160v-160H620v160Z\"/>\n",
              "  </svg>\n",
              "    </button>\n",
              "\n",
              "  <style>\n",
              "    .colab-df-container {\n",
              "      display:flex;\n",
              "      gap: 12px;\n",
              "    }\n",
              "\n",
              "    .colab-df-convert {\n",
              "      background-color: #E8F0FE;\n",
              "      border: none;\n",
              "      border-radius: 50%;\n",
              "      cursor: pointer;\n",
              "      display: none;\n",
              "      fill: #1967D2;\n",
              "      height: 32px;\n",
              "      padding: 0 0 0 0;\n",
              "      width: 32px;\n",
              "    }\n",
              "\n",
              "    .colab-df-convert:hover {\n",
              "      background-color: #E2EBFA;\n",
              "      box-shadow: 0px 1px 2px rgba(60, 64, 67, 0.3), 0px 1px 3px 1px rgba(60, 64, 67, 0.15);\n",
              "      fill: #174EA6;\n",
              "    }\n",
              "\n",
              "    .colab-df-buttons div {\n",
              "      margin-bottom: 4px;\n",
              "    }\n",
              "\n",
              "    [theme=dark] .colab-df-convert {\n",
              "      background-color: #3B4455;\n",
              "      fill: #D2E3FC;\n",
              "    }\n",
              "\n",
              "    [theme=dark] .colab-df-convert:hover {\n",
              "      background-color: #434B5C;\n",
              "      box-shadow: 0px 1px 3px 1px rgba(0, 0, 0, 0.15);\n",
              "      filter: drop-shadow(0px 1px 2px rgba(0, 0, 0, 0.3));\n",
              "      fill: #FFFFFF;\n",
              "    }\n",
              "  </style>\n",
              "\n",
              "    <script>\n",
              "      const buttonEl =\n",
              "        document.querySelector('#df-9945d200-532e-456e-a7b7-4fba7d407882 button.colab-df-convert');\n",
              "      buttonEl.style.display =\n",
              "        google.colab.kernel.accessAllowed ? 'block' : 'none';\n",
              "\n",
              "      async function convertToInteractive(key) {\n",
              "        const element = document.querySelector('#df-9945d200-532e-456e-a7b7-4fba7d407882');\n",
              "        const dataTable =\n",
              "          await google.colab.kernel.invokeFunction('convertToInteractive',\n",
              "                                                    [key], {});\n",
              "        if (!dataTable) return;\n",
              "\n",
              "        const docLinkHtml = 'Like what you see? Visit the ' +\n",
              "          '<a target=\"_blank\" href=https://colab.research.google.com/notebooks/data_table.ipynb>data table notebook</a>'\n",
              "          + ' to learn more about interactive tables.';\n",
              "        element.innerHTML = '';\n",
              "        dataTable['output_type'] = 'display_data';\n",
              "        await google.colab.output.renderOutput(dataTable, element);\n",
              "        const docLink = document.createElement('div');\n",
              "        docLink.innerHTML = docLinkHtml;\n",
              "        element.appendChild(docLink);\n",
              "      }\n",
              "    </script>\n",
              "  </div>\n",
              "\n",
              "\n",
              "<div id=\"df-a929e620-bf9c-4f9c-b3de-621347ae8b9d\">\n",
              "  <button class=\"colab-df-quickchart\" onclick=\"quickchart('df-a929e620-bf9c-4f9c-b3de-621347ae8b9d')\"\n",
              "            title=\"Suggest charts\"\n",
              "            style=\"display:none;\">\n",
              "\n",
              "<svg xmlns=\"http://www.w3.org/2000/svg\" height=\"24px\"viewBox=\"0 0 24 24\"\n",
              "     width=\"24px\">\n",
              "    <g>\n",
              "        <path d=\"M19 3H5c-1.1 0-2 .9-2 2v14c0 1.1.9 2 2 2h14c1.1 0 2-.9 2-2V5c0-1.1-.9-2-2-2zM9 17H7v-7h2v7zm4 0h-2V7h2v10zm4 0h-2v-4h2v4z\"/>\n",
              "    </g>\n",
              "</svg>\n",
              "  </button>\n",
              "\n",
              "<style>\n",
              "  .colab-df-quickchart {\n",
              "      --bg-color: #E8F0FE;\n",
              "      --fill-color: #1967D2;\n",
              "      --hover-bg-color: #E2EBFA;\n",
              "      --hover-fill-color: #174EA6;\n",
              "      --disabled-fill-color: #AAA;\n",
              "      --disabled-bg-color: #DDD;\n",
              "  }\n",
              "\n",
              "  [theme=dark] .colab-df-quickchart {\n",
              "      --bg-color: #3B4455;\n",
              "      --fill-color: #D2E3FC;\n",
              "      --hover-bg-color: #434B5C;\n",
              "      --hover-fill-color: #FFFFFF;\n",
              "      --disabled-bg-color: #3B4455;\n",
              "      --disabled-fill-color: #666;\n",
              "  }\n",
              "\n",
              "  .colab-df-quickchart {\n",
              "    background-color: var(--bg-color);\n",
              "    border: none;\n",
              "    border-radius: 50%;\n",
              "    cursor: pointer;\n",
              "    display: none;\n",
              "    fill: var(--fill-color);\n",
              "    height: 32px;\n",
              "    padding: 0;\n",
              "    width: 32px;\n",
              "  }\n",
              "\n",
              "  .colab-df-quickchart:hover {\n",
              "    background-color: var(--hover-bg-color);\n",
              "    box-shadow: 0 1px 2px rgba(60, 64, 67, 0.3), 0 1px 3px 1px rgba(60, 64, 67, 0.15);\n",
              "    fill: var(--button-hover-fill-color);\n",
              "  }\n",
              "\n",
              "  .colab-df-quickchart-complete:disabled,\n",
              "  .colab-df-quickchart-complete:disabled:hover {\n",
              "    background-color: var(--disabled-bg-color);\n",
              "    fill: var(--disabled-fill-color);\n",
              "    box-shadow: none;\n",
              "  }\n",
              "\n",
              "  .colab-df-spinner {\n",
              "    border: 2px solid var(--fill-color);\n",
              "    border-color: transparent;\n",
              "    border-bottom-color: var(--fill-color);\n",
              "    animation:\n",
              "      spin 1s steps(1) infinite;\n",
              "  }\n",
              "\n",
              "  @keyframes spin {\n",
              "    0% {\n",
              "      border-color: transparent;\n",
              "      border-bottom-color: var(--fill-color);\n",
              "      border-left-color: var(--fill-color);\n",
              "    }\n",
              "    20% {\n",
              "      border-color: transparent;\n",
              "      border-left-color: var(--fill-color);\n",
              "      border-top-color: var(--fill-color);\n",
              "    }\n",
              "    30% {\n",
              "      border-color: transparent;\n",
              "      border-left-color: var(--fill-color);\n",
              "      border-top-color: var(--fill-color);\n",
              "      border-right-color: var(--fill-color);\n",
              "    }\n",
              "    40% {\n",
              "      border-color: transparent;\n",
              "      border-right-color: var(--fill-color);\n",
              "      border-top-color: var(--fill-color);\n",
              "    }\n",
              "    60% {\n",
              "      border-color: transparent;\n",
              "      border-right-color: var(--fill-color);\n",
              "    }\n",
              "    80% {\n",
              "      border-color: transparent;\n",
              "      border-right-color: var(--fill-color);\n",
              "      border-bottom-color: var(--fill-color);\n",
              "    }\n",
              "    90% {\n",
              "      border-color: transparent;\n",
              "      border-bottom-color: var(--fill-color);\n",
              "    }\n",
              "  }\n",
              "</style>\n",
              "\n",
              "  <script>\n",
              "    async function quickchart(key) {\n",
              "      const quickchartButtonEl =\n",
              "        document.querySelector('#' + key + ' button');\n",
              "      quickchartButtonEl.disabled = true;  // To prevent multiple clicks.\n",
              "      quickchartButtonEl.classList.add('colab-df-spinner');\n",
              "      try {\n",
              "        const charts = await google.colab.kernel.invokeFunction(\n",
              "            'suggestCharts', [key], {});\n",
              "      } catch (error) {\n",
              "        console.error('Error during call to suggestCharts:', error);\n",
              "      }\n",
              "      quickchartButtonEl.classList.remove('colab-df-spinner');\n",
              "      quickchartButtonEl.classList.add('colab-df-quickchart-complete');\n",
              "    }\n",
              "    (() => {\n",
              "      let quickchartButtonEl =\n",
              "        document.querySelector('#df-a929e620-bf9c-4f9c-b3de-621347ae8b9d button');\n",
              "      quickchartButtonEl.style.display =\n",
              "        google.colab.kernel.accessAllowed ? 'block' : 'none';\n",
              "    })();\n",
              "  </script>\n",
              "</div>\n",
              "\n",
              "    </div>\n",
              "  </div>\n"
            ],
            "application/vnd.google.colaboratory.intrinsic+json": {
              "type": "dataframe",
              "variable_name": "extracted_features_df",
              "summary": "{\n  \"name\": \"extracted_features_df\",\n  \"rows\": 999,\n  \"fields\": [\n    {\n      \"column\": \"feature\",\n      \"properties\": {\n        \"dtype\": \"object\",\n        \"semantic_type\": \"\",\n        \"description\": \"\"\n      }\n    },\n    {\n      \"column\": \"class\",\n      \"properties\": {\n        \"dtype\": \"category\",\n        \"num_unique_values\": 10,\n        \"samples\": [\n          \"reggae\",\n          \"classical\",\n          \"jazz\"\n        ],\n        \"semantic_type\": \"\",\n        \"description\": \"\"\n      }\n    }\n  ]\n}"
            }
          },
          "metadata": {},
          "execution_count": 8
        }
      ]
    },
    {
      "cell_type": "code",
      "source": [
        "extracted_features_df['class'].value_counts()"
      ],
      "metadata": {
        "colab": {
          "base_uri": "https://localhost:8080/"
        },
        "id": "aOtSs3fxh7Bn",
        "outputId": "0a43058b-0aec-4a28-d1bd-be676a240feb"
      },
      "execution_count": null,
      "outputs": [
        {
          "output_type": "execute_result",
          "data": {
            "text/plain": [
              "class\n",
              "blues        100\n",
              "classical    100\n",
              "country      100\n",
              "disco        100\n",
              "hiphop       100\n",
              "metal        100\n",
              "pop          100\n",
              "reggae       100\n",
              "rock         100\n",
              "jazz          99\n",
              "Name: count, dtype: int64"
            ]
          },
          "metadata": {},
          "execution_count": 9
        }
      ]
    },
    {
      "cell_type": "code",
      "source": [
        "X=np.array(extracted_features_df['feature'].tolist())\n",
        "y=np.array(extracted_features_df['class'].tolist())"
      ],
      "metadata": {
        "id": "C_TC-_M6iF90"
      },
      "execution_count": null,
      "outputs": []
    },
    {
      "cell_type": "code",
      "source": [
        "X.shape"
      ],
      "metadata": {
        "colab": {
          "base_uri": "https://localhost:8080/"
        },
        "id": "mb2bArL_lPzF",
        "outputId": "59eaedc3-eb98-4269-eba9-bc4f6d6e3e3e"
      },
      "execution_count": null,
      "outputs": [
        {
          "output_type": "execute_result",
          "data": {
            "text/plain": [
              "(999, 40)"
            ]
          },
          "metadata": {},
          "execution_count": 11
        }
      ]
    },
    {
      "cell_type": "code",
      "source": [
        "from tensorflow.keras.utils import to_categorical\n",
        "from sklearn.preprocessing import LabelEncoder\n",
        "labelencoder=LabelEncoder()\n",
        "y=to_categorical(labelencoder.fit_transform(y))"
      ],
      "metadata": {
        "id": "IVSmSQUhcKIE"
      },
      "execution_count": null,
      "outputs": []
    },
    {
      "cell_type": "code",
      "source": [
        "y.shape"
      ],
      "metadata": {
        "colab": {
          "base_uri": "https://localhost:8080/"
        },
        "id": "LOIuexSHdeB9",
        "outputId": "b45f0ffe-0d9c-415b-d228-9f9b2498b576"
      },
      "execution_count": null,
      "outputs": [
        {
          "output_type": "execute_result",
          "data": {
            "text/plain": [
              "(999, 10)"
            ]
          },
          "metadata": {},
          "execution_count": 12
        }
      ]
    },
    {
      "cell_type": "markdown",
      "source": [
        "Train Test Split"
      ],
      "metadata": {
        "id": "zqVUt66tdias"
      }
    },
    {
      "cell_type": "code",
      "source": [
        "from sklearn.model_selection import train_test_split\n",
        "X_train, X_test, y_train, y_test = train_test_split(X, y, test_size=0.2, random_state=0)"
      ],
      "metadata": {
        "id": "VuevxZ9Mdkhd"
      },
      "execution_count": null,
      "outputs": []
    },
    {
      "cell_type": "code",
      "source": [
        "X_train"
      ],
      "metadata": {
        "colab": {
          "base_uri": "https://localhost:8080/"
        },
        "id": "4A00A3s6d_u-",
        "outputId": "32575015-89d1-4efe-f53e-b2357df2b5be"
      },
      "execution_count": null,
      "outputs": [
        {
          "output_type": "execute_result",
          "data": {
            "text/plain": [
              "array([[ 2.6653410e+01,  7.9789711e+01, -5.2055866e+01, ...,\n",
              "        -1.4430333e+00, -1.2734197e+00, -5.9081397e+00],\n",
              "       [-1.4495711e+02,  1.1846496e+02,  2.0525068e+01, ...,\n",
              "         1.8998557e+00, -1.8821739e+00, -1.8517891e+00],\n",
              "       [-6.6108925e+01,  9.7883812e+01, -1.8831675e+01, ...,\n",
              "        -1.2424636e+00, -6.3691199e-01, -1.3383397e+00],\n",
              "       ...,\n",
              "       [-7.7426697e+01,  1.3087869e+02, -2.3275221e+01, ...,\n",
              "        -4.2062173e+00, -3.5183537e+00,  2.6050329e+00],\n",
              "       [-1.9040649e+02,  1.2951292e+02, -7.8296256e+00, ...,\n",
              "        -2.2419319e+00, -3.9879441e+00, -1.9877437e+00],\n",
              "       [-4.6609550e+01,  8.6802010e+01, -3.4776669e+01, ...,\n",
              "         1.4675997e-01,  9.2151546e-01, -8.7239462e-01]], dtype=float32)"
            ]
          },
          "metadata": {},
          "execution_count": 14
        }
      ]
    },
    {
      "cell_type": "code",
      "source": [
        "print(X_train.shape)\n",
        "print(X_test.shape)\n",
        "print(y_train.shape)\n",
        "print(y_test.shape)"
      ],
      "metadata": {
        "colab": {
          "base_uri": "https://localhost:8080/"
        },
        "id": "Y7w_RqkfeJid",
        "outputId": "50f7c6ac-0e8f-4ad9-e66a-8499c0317b6f"
      },
      "execution_count": null,
      "outputs": [
        {
          "output_type": "stream",
          "name": "stdout",
          "text": [
            "(799, 40)\n",
            "(200, 40)\n",
            "(799, 10)\n",
            "(200, 10)\n"
          ]
        }
      ]
    },
    {
      "cell_type": "code",
      "source": [
        "import tensorflow as tf\n",
        "print(tf.__version__)"
      ],
      "metadata": {
        "colab": {
          "base_uri": "https://localhost:8080/"
        },
        "id": "YJRctw5Meb4e",
        "outputId": "bf4da964-1a59-4cbd-eab6-686f544995d5"
      },
      "execution_count": null,
      "outputs": [
        {
          "output_type": "stream",
          "name": "stdout",
          "text": [
            "2.15.0\n"
          ]
        }
      ]
    },
    {
      "cell_type": "code",
      "source": [
        "from tensorflow.keras.models import Sequential\n",
        "from tensorflow.keras.layers import Dense,Dropout,Activation,Flatten\n",
        "from tensorflow.keras.optimizers import Adam\n",
        "from sklearn import metrics"
      ],
      "metadata": {
        "id": "ViE_93q8foO7"
      },
      "execution_count": null,
      "outputs": []
    },
    {
      "cell_type": "code",
      "source": [
        "num_labels=y.shape[1]"
      ],
      "metadata": {
        "id": "LZWj5dQFgbCb"
      },
      "execution_count": null,
      "outputs": []
    },
    {
      "cell_type": "code",
      "source": [
        "y.shape[1]"
      ],
      "metadata": {
        "colab": {
          "base_uri": "https://localhost:8080/"
        },
        "id": "DiAu-JANggkD",
        "outputId": "cc5ca915-a99d-4d6c-8535-978642aeb122"
      },
      "execution_count": null,
      "outputs": [
        {
          "output_type": "execute_result",
          "data": {
            "text/plain": [
              "10"
            ]
          },
          "metadata": {},
          "execution_count": 19
        }
      ]
    },
    {
      "cell_type": "code",
      "source": [
        "model=Sequential()\n",
        "\n",
        "model.add(Dense (1024, input_shape=(40,), activation=\"relu\"))\n",
        "\n",
        "model.add(Dropout(0.3))\n",
        "\n",
        "model.add(Dense(512, activation=\"relu\"))\n",
        "\n",
        "model.add(Dropout(0.3))\n",
        "\n",
        "model.add(Dense (256, activation=\"relu\"))\n",
        "\n",
        "model.add(Dropout(0.3))\n",
        "\n",
        "model.add(Dense(128, activation=\"relu\"))\n",
        "\n",
        "model.add(Dropout(0.3))\n",
        "\n",
        "model.add(Dense (64, activation=\"relu\"))\n",
        "\n",
        "model.add(Dropout(0.3))\n",
        "\n",
        "model.add(Dense (32, activation=\"relu\"))\n",
        "\n",
        "model.add(Dropout(0.3))\n",
        "\n",
        "model.add(Dense(num_labels, activation=\"softmax\"))"
      ],
      "metadata": {
        "id": "hNhRqJPzgpub"
      },
      "execution_count": null,
      "outputs": []
    },
    {
      "cell_type": "code",
      "source": [
        "model.summary()"
      ],
      "metadata": {
        "colab": {
          "base_uri": "https://localhost:8080/"
        },
        "id": "puarcYyLh2tj",
        "outputId": "62f1df6f-e0ae-4c4e-920d-8562e76d8d4c"
      },
      "execution_count": null,
      "outputs": [
        {
          "output_type": "stream",
          "name": "stdout",
          "text": [
            "Model: \"sequential\"\n",
            "_________________________________________________________________\n",
            " Layer (type)                Output Shape              Param #   \n",
            "=================================================================\n",
            " dense (Dense)               (None, 1024)              41984     \n",
            "                                                                 \n",
            " dropout (Dropout)           (None, 1024)              0         \n",
            "                                                                 \n",
            " dense_1 (Dense)             (None, 512)               524800    \n",
            "                                                                 \n",
            " dropout_1 (Dropout)         (None, 512)               0         \n",
            "                                                                 \n",
            " dense_2 (Dense)             (None, 256)               131328    \n",
            "                                                                 \n",
            " dropout_2 (Dropout)         (None, 256)               0         \n",
            "                                                                 \n",
            " dense_3 (Dense)             (None, 128)               32896     \n",
            "                                                                 \n",
            " dropout_3 (Dropout)         (None, 128)               0         \n",
            "                                                                 \n",
            " dense_4 (Dense)             (None, 64)                8256      \n",
            "                                                                 \n",
            " dropout_4 (Dropout)         (None, 64)                0         \n",
            "                                                                 \n",
            " dense_5 (Dense)             (None, 32)                2080      \n",
            "                                                                 \n",
            " dropout_5 (Dropout)         (None, 32)                0         \n",
            "                                                                 \n",
            " dense_6 (Dense)             (None, 10)                330       \n",
            "                                                                 \n",
            "=================================================================\n",
            "Total params: 741674 (2.83 MB)\n",
            "Trainable params: 741674 (2.83 MB)\n",
            "Non-trainable params: 0 (0.00 Byte)\n",
            "_________________________________________________________________\n"
          ]
        }
      ]
    },
    {
      "cell_type": "code",
      "source": [
        "model.compile(loss='categorical_crossentropy', metrics=['accuracy'], optimizer='adam')"
      ],
      "metadata": {
        "id": "l8oMPE-uh8W7"
      },
      "execution_count": null,
      "outputs": []
    },
    {
      "cell_type": "code",
      "source": [
        "import time\n",
        "t = time.localtime()\n",
        "current_time = time.strftime(\"%H:%M:%S\", t)"
      ],
      "metadata": {
        "id": "MnNTGEC7pdts"
      },
      "execution_count": null,
      "outputs": []
    },
    {
      "cell_type": "code",
      "source": [
        "##Training model\n",
        "from tensorflow.keras.callbacks import ModelCheckpoint\n",
        "from datetime import datetime\n",
        "\n",
        "num_epochs = 100\n",
        "num_batch_size = 32\n",
        "\n",
        "checkpointer = ModelCheckpoint(filepath=f'saved_models/audio_classification_{current_time}.hdf5',\n",
        "                               verbose=1, save_best_only=True)\n",
        "\n",
        "start = datetime.now()\n",
        "\n",
        "history = model.fit(X_train, y_train, batch_size=num_batch_size, epochs=num_epochs, validation_data=(X_test, y_test), callbacks=[checkpointer], verbose=1)\n",
        "\n",
        "duration = datetime.now() - start\n",
        "print(\"Training selesai: \", duration)\n"
      ],
      "metadata": {
        "colab": {
          "base_uri": "https://localhost:8080/"
        },
        "id": "DRS4GQudp6Bs",
        "outputId": "69c08a05-08ce-4de9-dc40-8e951003ffc5"
      },
      "execution_count": null,
      "outputs": [
        {
          "output_type": "stream",
          "name": "stdout",
          "text": [
            "Epoch 1/100\n",
            "24/25 [===========================>..] - ETA: 0s - loss: 4.2463 - accuracy: 0.0938\n",
            "Epoch 1: val_loss improved from inf to 2.28942, saving model to saved_models/audio_classification_00:35:16.hdf5\n",
            "25/25 [==============================] - 3s 41ms/step - loss: 4.1745 - accuracy: 0.0964 - val_loss: 2.2894 - val_accuracy: 0.1050\n",
            "Epoch 2/100\n",
            " 5/25 [=====>........................] - ETA: 0s - loss: 2.7512 - accuracy: 0.1000"
          ]
        },
        {
          "output_type": "stream",
          "name": "stderr",
          "text": [
            "/usr/local/lib/python3.10/dist-packages/keras/src/engine/training.py:3103: UserWarning: You are saving your model as an HDF5 file via `model.save()`. This file format is considered legacy. We recommend using instead the native Keras format, e.g. `model.save('my_model.keras')`.\n",
            "  saving_api.save_model(\n"
          ]
        },
        {
          "output_type": "stream",
          "name": "stdout",
          "text": [
            "24/25 [===========================>..] - ETA: 0s - loss: 2.6487 - accuracy: 0.1224\n",
            "Epoch 2: val_loss did not improve from 2.28942\n",
            "25/25 [==============================] - 0s 20ms/step - loss: 2.6397 - accuracy: 0.1214 - val_loss: 2.2898 - val_accuracy: 0.1100\n",
            "Epoch 3/100\n",
            "24/25 [===========================>..] - ETA: 0s - loss: 2.3936 - accuracy: 0.1263\n",
            "Epoch 3: val_loss improved from 2.28942 to 2.28392, saving model to saved_models/audio_classification_00:35:16.hdf5\n",
            "25/25 [==============================] - 1s 21ms/step - loss: 2.3953 - accuracy: 0.1277 - val_loss: 2.2839 - val_accuracy: 0.1750\n",
            "Epoch 4/100\n",
            "23/25 [==========================>...] - ETA: 0s - loss: 2.3860 - accuracy: 0.0965\n",
            "Epoch 4: val_loss improved from 2.28392 to 2.28062, saving model to saved_models/audio_classification_00:35:16.hdf5\n",
            "25/25 [==============================] - 1s 22ms/step - loss: 2.3845 - accuracy: 0.0951 - val_loss: 2.2806 - val_accuracy: 0.2000\n",
            "Epoch 5/100\n",
            "23/25 [==========================>...] - ETA: 0s - loss: 2.2985 - accuracy: 0.1345\n",
            "Epoch 5: val_loss improved from 2.28062 to 2.23698, saving model to saved_models/audio_classification_00:35:16.hdf5\n",
            "25/25 [==============================] - 1s 22ms/step - loss: 2.2985 - accuracy: 0.1327 - val_loss: 2.2370 - val_accuracy: 0.1600\n",
            "Epoch 6/100\n",
            "24/25 [===========================>..] - ETA: 0s - loss: 2.3078 - accuracy: 0.1445\n",
            "Epoch 6: val_loss improved from 2.23698 to 2.19395, saving model to saved_models/audio_classification_00:35:16.hdf5\n",
            "25/25 [==============================] - 1s 22ms/step - loss: 2.3067 - accuracy: 0.1427 - val_loss: 2.1940 - val_accuracy: 0.2000\n",
            "Epoch 7/100\n",
            "22/25 [=========================>....] - ETA: 0s - loss: 2.2103 - accuracy: 0.1804\n",
            "Epoch 7: val_loss did not improve from 2.19395\n",
            "25/25 [==============================] - 1s 20ms/step - loss: 2.2263 - accuracy: 0.1815 - val_loss: 2.2087 - val_accuracy: 0.2500\n",
            "Epoch 8/100\n",
            "22/25 [=========================>....] - ETA: 0s - loss: 2.1889 - accuracy: 0.1662\n",
            "Epoch 8: val_loss improved from 2.19395 to 2.11867, saving model to saved_models/audio_classification_00:35:16.hdf5\n",
            "25/25 [==============================] - 1s 23ms/step - loss: 2.1870 - accuracy: 0.1715 - val_loss: 2.1187 - val_accuracy: 0.2700\n",
            "Epoch 9/100\n",
            "24/25 [===========================>..] - ETA: 0s - loss: 2.1733 - accuracy: 0.1940\n",
            "Epoch 9: val_loss improved from 2.11867 to 2.05937, saving model to saved_models/audio_classification_00:35:16.hdf5\n",
            "25/25 [==============================] - 1s 21ms/step - loss: 2.1714 - accuracy: 0.1965 - val_loss: 2.0594 - val_accuracy: 0.2750\n",
            "Epoch 10/100\n",
            "22/25 [=========================>....] - ETA: 0s - loss: 2.1214 - accuracy: 0.2472\n",
            "Epoch 10: val_loss improved from 2.05937 to 2.00879, saving model to saved_models/audio_classification_00:35:16.hdf5\n",
            "25/25 [==============================] - 1s 21ms/step - loss: 2.1189 - accuracy: 0.2441 - val_loss: 2.0088 - val_accuracy: 0.3000\n",
            "Epoch 11/100\n",
            "23/25 [==========================>...] - ETA: 0s - loss: 2.0800 - accuracy: 0.2459\n",
            "Epoch 11: val_loss improved from 2.00879 to 1.96305, saving model to saved_models/audio_classification_00:35:16.hdf5\n",
            "25/25 [==============================] - 1s 27ms/step - loss: 2.0775 - accuracy: 0.2441 - val_loss: 1.9631 - val_accuracy: 0.3050\n",
            "Epoch 12/100\n",
            "25/25 [==============================] - ETA: 0s - loss: 2.0418 - accuracy: 0.2666\n",
            "Epoch 12: val_loss did not improve from 1.96305\n",
            "25/25 [==============================] - 1s 26ms/step - loss: 2.0418 - accuracy: 0.2666 - val_loss: 1.9827 - val_accuracy: 0.3000\n",
            "Epoch 13/100\n",
            "23/25 [==========================>...] - ETA: 0s - loss: 2.0073 - accuracy: 0.2690\n",
            "Epoch 13: val_loss improved from 1.96305 to 1.87826, saving model to saved_models/audio_classification_00:35:16.hdf5\n",
            "25/25 [==============================] - 1s 31ms/step - loss: 2.0087 - accuracy: 0.2691 - val_loss: 1.8783 - val_accuracy: 0.2700\n",
            "Epoch 14/100\n",
            "24/25 [===========================>..] - ETA: 0s - loss: 1.9275 - accuracy: 0.2799\n",
            "Epoch 14: val_loss improved from 1.87826 to 1.85409, saving model to saved_models/audio_classification_00:35:16.hdf5\n",
            "25/25 [==============================] - 1s 32ms/step - loss: 1.9297 - accuracy: 0.2778 - val_loss: 1.8541 - val_accuracy: 0.3000\n",
            "Epoch 15/100\n",
            "24/25 [===========================>..] - ETA: 0s - loss: 1.9341 - accuracy: 0.2917\n",
            "Epoch 15: val_loss did not improve from 1.85409\n",
            "25/25 [==============================] - 1s 27ms/step - loss: 1.9379 - accuracy: 0.2891 - val_loss: 1.9098 - val_accuracy: 0.3150\n",
            "Epoch 16/100\n",
            "25/25 [==============================] - ETA: 0s - loss: 1.8974 - accuracy: 0.2854\n",
            "Epoch 16: val_loss improved from 1.85409 to 1.81668, saving model to saved_models/audio_classification_00:35:16.hdf5\n",
            "25/25 [==============================] - 1s 31ms/step - loss: 1.8974 - accuracy: 0.2854 - val_loss: 1.8167 - val_accuracy: 0.3250\n",
            "Epoch 17/100\n",
            "24/25 [===========================>..] - ETA: 0s - loss: 1.8782 - accuracy: 0.3112\n",
            "Epoch 17: val_loss improved from 1.81668 to 1.78863, saving model to saved_models/audio_classification_00:35:16.hdf5\n",
            "25/25 [==============================] - 1s 33ms/step - loss: 1.8748 - accuracy: 0.3141 - val_loss: 1.7886 - val_accuracy: 0.3400\n",
            "Epoch 18/100\n",
            "24/25 [===========================>..] - ETA: 0s - loss: 1.8427 - accuracy: 0.3294\n",
            "Epoch 18: val_loss improved from 1.78863 to 1.78527, saving model to saved_models/audio_classification_00:35:16.hdf5\n",
            "25/25 [==============================] - 1s 22ms/step - loss: 1.8470 - accuracy: 0.3279 - val_loss: 1.7853 - val_accuracy: 0.3050\n",
            "Epoch 19/100\n",
            "24/25 [===========================>..] - ETA: 0s - loss: 1.8081 - accuracy: 0.3320\n",
            "Epoch 19: val_loss did not improve from 1.78527\n",
            "25/25 [==============================] - 1s 21ms/step - loss: 1.8171 - accuracy: 0.3254 - val_loss: 1.7928 - val_accuracy: 0.2850\n",
            "Epoch 20/100\n",
            "24/25 [===========================>..] - ETA: 0s - loss: 1.8389 - accuracy: 0.3073\n",
            "Epoch 20: val_loss did not improve from 1.78527\n",
            "25/25 [==============================] - 1s 28ms/step - loss: 1.8348 - accuracy: 0.3104 - val_loss: 1.8081 - val_accuracy: 0.3350\n",
            "Epoch 21/100\n",
            "24/25 [===========================>..] - ETA: 0s - loss: 1.7684 - accuracy: 0.3372\n",
            "Epoch 21: val_loss improved from 1.78527 to 1.78333, saving model to saved_models/audio_classification_00:35:16.hdf5\n",
            "25/25 [==============================] - 1s 26ms/step - loss: 1.7741 - accuracy: 0.3342 - val_loss: 1.7833 - val_accuracy: 0.3400\n",
            "Epoch 22/100\n",
            "22/25 [=========================>....] - ETA: 0s - loss: 1.7330 - accuracy: 0.3565\n",
            "Epoch 22: val_loss improved from 1.78333 to 1.74161, saving model to saved_models/audio_classification_00:35:16.hdf5\n",
            "25/25 [==============================] - 1s 23ms/step - loss: 1.7478 - accuracy: 0.3479 - val_loss: 1.7416 - val_accuracy: 0.3250\n",
            "Epoch 23/100\n",
            "23/25 [==========================>...] - ETA: 0s - loss: 1.7420 - accuracy: 0.3438\n",
            "Epoch 23: val_loss did not improve from 1.74161\n",
            "25/25 [==============================] - 1s 21ms/step - loss: 1.7093 - accuracy: 0.3554 - val_loss: 1.7990 - val_accuracy: 0.3550\n",
            "Epoch 24/100\n",
            "24/25 [===========================>..] - ETA: 0s - loss: 1.7300 - accuracy: 0.3529\n",
            "Epoch 24: val_loss improved from 1.74161 to 1.71201, saving model to saved_models/audio_classification_00:35:16.hdf5\n",
            "25/25 [==============================] - 0s 20ms/step - loss: 1.7231 - accuracy: 0.3554 - val_loss: 1.7120 - val_accuracy: 0.3200\n",
            "Epoch 25/100\n",
            "22/25 [=========================>....] - ETA: 0s - loss: 1.7419 - accuracy: 0.3523\n",
            "Epoch 25: val_loss improved from 1.71201 to 1.70450, saving model to saved_models/audio_classification_00:35:16.hdf5\n",
            "25/25 [==============================] - 1s 22ms/step - loss: 1.7457 - accuracy: 0.3479 - val_loss: 1.7045 - val_accuracy: 0.3500\n",
            "Epoch 26/100\n",
            "23/25 [==========================>...] - ETA: 0s - loss: 1.6672 - accuracy: 0.3764\n",
            "Epoch 26: val_loss did not improve from 1.70450\n",
            "25/25 [==============================] - 0s 18ms/step - loss: 1.6778 - accuracy: 0.3805 - val_loss: 1.7187 - val_accuracy: 0.3950\n",
            "Epoch 27/100\n",
            "25/25 [==============================] - ETA: 0s - loss: 1.6632 - accuracy: 0.3892\n",
            "Epoch 27: val_loss did not improve from 1.70450\n",
            "25/25 [==============================] - 1s 21ms/step - loss: 1.6632 - accuracy: 0.3892 - val_loss: 1.7931 - val_accuracy: 0.3650\n",
            "Epoch 28/100\n",
            "22/25 [=========================>....] - ETA: 0s - loss: 1.6906 - accuracy: 0.3608\n",
            "Epoch 28: val_loss did not improve from 1.70450\n",
            "25/25 [==============================] - 0s 18ms/step - loss: 1.6838 - accuracy: 0.3592 - val_loss: 1.8001 - val_accuracy: 0.3750\n",
            "Epoch 29/100\n",
            "22/25 [=========================>....] - ETA: 0s - loss: 1.6224 - accuracy: 0.4062\n",
            "Epoch 29: val_loss improved from 1.70450 to 1.66943, saving model to saved_models/audio_classification_00:35:16.hdf5\n",
            "25/25 [==============================] - 1s 21ms/step - loss: 1.6423 - accuracy: 0.3917 - val_loss: 1.6694 - val_accuracy: 0.4250\n",
            "Epoch 30/100\n",
            "23/25 [==========================>...] - ETA: 0s - loss: 1.6226 - accuracy: 0.3750\n",
            "Epoch 30: val_loss did not improve from 1.66943\n",
            "25/25 [==============================] - 0s 20ms/step - loss: 1.6187 - accuracy: 0.3730 - val_loss: 1.6813 - val_accuracy: 0.4050\n",
            "Epoch 31/100\n",
            "22/25 [=========================>....] - ETA: 0s - loss: 1.6373 - accuracy: 0.3963\n",
            "Epoch 31: val_loss did not improve from 1.66943\n",
            "25/25 [==============================] - 0s 19ms/step - loss: 1.6703 - accuracy: 0.3917 - val_loss: 1.6855 - val_accuracy: 0.4100\n",
            "Epoch 32/100\n",
            "24/25 [===========================>..] - ETA: 0s - loss: 1.6403 - accuracy: 0.3906\n",
            "Epoch 32: val_loss did not improve from 1.66943\n",
            "25/25 [==============================] - 0s 18ms/step - loss: 1.6268 - accuracy: 0.3955 - val_loss: 1.7018 - val_accuracy: 0.4500\n",
            "Epoch 33/100\n",
            "23/25 [==========================>...] - ETA: 0s - loss: 1.6617 - accuracy: 0.3791\n",
            "Epoch 33: val_loss did not improve from 1.66943\n",
            "25/25 [==============================] - 0s 19ms/step - loss: 1.6340 - accuracy: 0.3892 - val_loss: 1.6846 - val_accuracy: 0.4150\n",
            "Epoch 34/100\n",
            "23/25 [==========================>...] - ETA: 0s - loss: 1.5844 - accuracy: 0.4171\n",
            "Epoch 34: val_loss did not improve from 1.66943\n",
            "25/25 [==============================] - 0s 18ms/step - loss: 1.5905 - accuracy: 0.4105 - val_loss: 1.6860 - val_accuracy: 0.4200\n",
            "Epoch 35/100\n",
            "22/25 [=========================>....] - ETA: 0s - loss: 1.5881 - accuracy: 0.4162\n",
            "Epoch 35: val_loss did not improve from 1.66943\n",
            "25/25 [==============================] - 1s 20ms/step - loss: 1.5892 - accuracy: 0.4130 - val_loss: 1.6724 - val_accuracy: 0.4250\n",
            "Epoch 36/100\n",
            "24/25 [===========================>..] - ETA: 0s - loss: 1.5579 - accuracy: 0.4167\n",
            "Epoch 36: val_loss improved from 1.66943 to 1.65508, saving model to saved_models/audio_classification_00:35:16.hdf5\n",
            "25/25 [==============================] - 1s 20ms/step - loss: 1.5668 - accuracy: 0.4155 - val_loss: 1.6551 - val_accuracy: 0.3250\n",
            "Epoch 37/100\n",
            "23/25 [==========================>...] - ETA: 0s - loss: 1.5355 - accuracy: 0.4389\n",
            "Epoch 37: val_loss did not improve from 1.65508\n",
            "25/25 [==============================] - 1s 27ms/step - loss: 1.5382 - accuracy: 0.4418 - val_loss: 1.6580 - val_accuracy: 0.3650\n",
            "Epoch 38/100\n",
            "23/25 [==========================>...] - ETA: 0s - loss: 1.5310 - accuracy: 0.4008\n",
            "Epoch 38: val_loss did not improve from 1.65508\n",
            "25/25 [==============================] - 1s 30ms/step - loss: 1.5325 - accuracy: 0.4055 - val_loss: 1.6585 - val_accuracy: 0.3400\n",
            "Epoch 39/100\n",
            "25/25 [==============================] - ETA: 0s - loss: 1.5727 - accuracy: 0.4230\n",
            "Epoch 39: val_loss improved from 1.65508 to 1.64852, saving model to saved_models/audio_classification_00:35:16.hdf5\n",
            "25/25 [==============================] - 1s 34ms/step - loss: 1.5727 - accuracy: 0.4230 - val_loss: 1.6485 - val_accuracy: 0.4250\n",
            "Epoch 40/100\n",
            "25/25 [==============================] - ETA: 0s - loss: 1.5157 - accuracy: 0.4443\n",
            "Epoch 40: val_loss did not improve from 1.64852\n",
            "25/25 [==============================] - 1s 39ms/step - loss: 1.5157 - accuracy: 0.4443 - val_loss: 1.6531 - val_accuracy: 0.4350\n",
            "Epoch 41/100\n",
            "25/25 [==============================] - ETA: 0s - loss: 1.4801 - accuracy: 0.4481\n",
            "Epoch 41: val_loss improved from 1.64852 to 1.62695, saving model to saved_models/audio_classification_00:35:16.hdf5\n",
            "25/25 [==============================] - 1s 38ms/step - loss: 1.4801 - accuracy: 0.4481 - val_loss: 1.6270 - val_accuracy: 0.4100\n",
            "Epoch 42/100\n",
            "24/25 [===========================>..] - ETA: 0s - loss: 1.4875 - accuracy: 0.4427\n",
            "Epoch 42: val_loss improved from 1.62695 to 1.60336, saving model to saved_models/audio_classification_00:35:16.hdf5\n",
            "25/25 [==============================] - 1s 48ms/step - loss: 1.4839 - accuracy: 0.4456 - val_loss: 1.6034 - val_accuracy: 0.3700\n",
            "Epoch 43/100\n",
            "24/25 [===========================>..] - ETA: 0s - loss: 1.4845 - accuracy: 0.4375\n",
            "Epoch 43: val_loss did not improve from 1.60336\n",
            "25/25 [==============================] - 1s 52ms/step - loss: 1.4916 - accuracy: 0.4393 - val_loss: 1.6463 - val_accuracy: 0.4250\n",
            "Epoch 44/100\n",
            "24/25 [===========================>..] - ETA: 0s - loss: 1.3961 - accuracy: 0.4596\n",
            "Epoch 44: val_loss did not improve from 1.60336\n",
            "25/25 [==============================] - 1s 34ms/step - loss: 1.4099 - accuracy: 0.4556 - val_loss: 1.6500 - val_accuracy: 0.4150\n",
            "Epoch 45/100\n",
            "25/25 [==============================] - ETA: 0s - loss: 1.4783 - accuracy: 0.4506\n",
            "Epoch 45: val_loss did not improve from 1.60336\n",
            "25/25 [==============================] - 1s 27ms/step - loss: 1.4783 - accuracy: 0.4506 - val_loss: 1.6560 - val_accuracy: 0.4000\n",
            "Epoch 46/100\n",
            "23/25 [==========================>...] - ETA: 0s - loss: 1.4512 - accuracy: 0.4606\n",
            "Epoch 46: val_loss did not improve from 1.60336\n",
            "25/25 [==============================] - 1s 27ms/step - loss: 1.4429 - accuracy: 0.4631 - val_loss: 1.6095 - val_accuracy: 0.4200\n",
            "Epoch 47/100\n",
            "22/25 [=========================>....] - ETA: 0s - loss: 1.4287 - accuracy: 0.4801\n",
            "Epoch 47: val_loss did not improve from 1.60336\n",
            "25/25 [==============================] - 0s 18ms/step - loss: 1.4208 - accuracy: 0.4806 - val_loss: 1.6711 - val_accuracy: 0.4350\n",
            "Epoch 48/100\n",
            "24/25 [===========================>..] - ETA: 0s - loss: 1.3515 - accuracy: 0.4805\n",
            "Epoch 48: val_loss did not improve from 1.60336\n",
            "25/25 [==============================] - 0s 18ms/step - loss: 1.3421 - accuracy: 0.4831 - val_loss: 1.6735 - val_accuracy: 0.3900\n",
            "Epoch 49/100\n",
            "24/25 [===========================>..] - ETA: 0s - loss: 1.4093 - accuracy: 0.4831\n",
            "Epoch 49: val_loss did not improve from 1.60336\n",
            "25/25 [==============================] - 0s 18ms/step - loss: 1.4080 - accuracy: 0.4869 - val_loss: 1.6063 - val_accuracy: 0.4150\n",
            "Epoch 50/100\n",
            "23/25 [==========================>...] - ETA: 0s - loss: 1.3412 - accuracy: 0.4959\n",
            "Epoch 50: val_loss did not improve from 1.60336\n",
            "25/25 [==============================] - 0s 20ms/step - loss: 1.3222 - accuracy: 0.5031 - val_loss: 1.6437 - val_accuracy: 0.4500\n",
            "Epoch 51/100\n",
            "24/25 [===========================>..] - ETA: 0s - loss: 1.2949 - accuracy: 0.4974\n",
            "Epoch 51: val_loss did not improve from 1.60336\n",
            "25/25 [==============================] - 0s 19ms/step - loss: 1.3052 - accuracy: 0.4956 - val_loss: 1.6248 - val_accuracy: 0.4650\n",
            "Epoch 52/100\n",
            "25/25 [==============================] - ETA: 0s - loss: 1.3514 - accuracy: 0.4869\n",
            "Epoch 52: val_loss improved from 1.60336 to 1.55432, saving model to saved_models/audio_classification_00:35:16.hdf5\n",
            "25/25 [==============================] - 1s 22ms/step - loss: 1.3514 - accuracy: 0.4869 - val_loss: 1.5543 - val_accuracy: 0.4500\n",
            "Epoch 53/100\n",
            "24/25 [===========================>..] - ETA: 0s - loss: 1.3111 - accuracy: 0.5039\n",
            "Epoch 53: val_loss did not improve from 1.55432\n",
            "25/25 [==============================] - 0s 19ms/step - loss: 1.3048 - accuracy: 0.5106 - val_loss: 1.7333 - val_accuracy: 0.4550\n",
            "Epoch 54/100\n",
            "24/25 [===========================>..] - ETA: 0s - loss: 1.2902 - accuracy: 0.5208\n",
            "Epoch 54: val_loss did not improve from 1.55432\n",
            "25/25 [==============================] - 0s 18ms/step - loss: 1.2841 - accuracy: 0.5219 - val_loss: 1.6683 - val_accuracy: 0.4350\n",
            "Epoch 55/100\n",
            "23/25 [==========================>...] - ETA: 0s - loss: 1.2727 - accuracy: 0.5054\n",
            "Epoch 55: val_loss did not improve from 1.55432\n",
            "25/25 [==============================] - 1s 21ms/step - loss: 1.2806 - accuracy: 0.5006 - val_loss: 1.6963 - val_accuracy: 0.4400\n",
            "Epoch 56/100\n",
            "25/25 [==============================] - ETA: 0s - loss: 1.2768 - accuracy: 0.5432\n",
            "Epoch 56: val_loss improved from 1.55432 to 1.51061, saving model to saved_models/audio_classification_00:35:16.hdf5\n",
            "25/25 [==============================] - 1s 20ms/step - loss: 1.2768 - accuracy: 0.5432 - val_loss: 1.5106 - val_accuracy: 0.5350\n",
            "Epoch 57/100\n",
            "23/25 [==========================>...] - ETA: 0s - loss: 1.2240 - accuracy: 0.5503\n",
            "Epoch 57: val_loss did not improve from 1.51061\n",
            "25/25 [==============================] - 1s 21ms/step - loss: 1.2173 - accuracy: 0.5507 - val_loss: 1.5994 - val_accuracy: 0.5200\n",
            "Epoch 58/100\n",
            "23/25 [==========================>...] - ETA: 0s - loss: 1.1881 - accuracy: 0.5734\n",
            "Epoch 58: val_loss did not improve from 1.51061\n",
            "25/25 [==============================] - 0s 20ms/step - loss: 1.2153 - accuracy: 0.5645 - val_loss: 1.5745 - val_accuracy: 0.5050\n",
            "Epoch 59/100\n",
            "23/25 [==========================>...] - ETA: 0s - loss: 1.2595 - accuracy: 0.5448\n",
            "Epoch 59: val_loss did not improve from 1.51061\n",
            "25/25 [==============================] - 1s 25ms/step - loss: 1.2520 - accuracy: 0.5457 - val_loss: 1.6518 - val_accuracy: 0.4650\n",
            "Epoch 60/100\n",
            "24/25 [===========================>..] - ETA: 0s - loss: 1.2000 - accuracy: 0.5560\n",
            "Epoch 60: val_loss did not improve from 1.51061\n",
            "25/25 [==============================] - 1s 22ms/step - loss: 1.1975 - accuracy: 0.5557 - val_loss: 1.5232 - val_accuracy: 0.4800\n",
            "Epoch 61/100\n",
            "22/25 [=========================>....] - ETA: 0s - loss: 1.1595 - accuracy: 0.5881\n",
            "Epoch 61: val_loss did not improve from 1.51061\n",
            "25/25 [==============================] - 1s 22ms/step - loss: 1.1677 - accuracy: 0.5845 - val_loss: 1.5153 - val_accuracy: 0.5000\n",
            "Epoch 62/100\n",
            "23/25 [==========================>...] - ETA: 0s - loss: 1.1765 - accuracy: 0.5897\n",
            "Epoch 62: val_loss did not improve from 1.51061\n",
            "25/25 [==============================] - 0s 18ms/step - loss: 1.1774 - accuracy: 0.5882 - val_loss: 1.5517 - val_accuracy: 0.5200\n",
            "Epoch 63/100\n",
            "25/25 [==============================] - ETA: 0s - loss: 1.0843 - accuracy: 0.5907\n",
            "Epoch 63: val_loss did not improve from 1.51061\n",
            "25/25 [==============================] - 1s 21ms/step - loss: 1.0843 - accuracy: 0.5907 - val_loss: 1.5309 - val_accuracy: 0.5100\n",
            "Epoch 64/100\n",
            "23/25 [==========================>...] - ETA: 0s - loss: 1.1258 - accuracy: 0.5666\n",
            "Epoch 64: val_loss did not improve from 1.51061\n",
            "25/25 [==============================] - 1s 20ms/step - loss: 1.1229 - accuracy: 0.5695 - val_loss: 1.5891 - val_accuracy: 0.5350\n",
            "Epoch 65/100\n",
            "24/25 [===========================>..] - ETA: 0s - loss: 1.0558 - accuracy: 0.5990\n",
            "Epoch 65: val_loss did not improve from 1.51061\n",
            "25/25 [==============================] - 1s 21ms/step - loss: 1.0566 - accuracy: 0.5957 - val_loss: 1.6929 - val_accuracy: 0.5250\n",
            "Epoch 66/100\n",
            "24/25 [===========================>..] - ETA: 0s - loss: 1.0598 - accuracy: 0.6211\n",
            "Epoch 66: val_loss improved from 1.51061 to 1.49322, saving model to saved_models/audio_classification_00:35:16.hdf5\n",
            "25/25 [==============================] - 1s 39ms/step - loss: 1.0882 - accuracy: 0.6170 - val_loss: 1.4932 - val_accuracy: 0.5650\n",
            "Epoch 67/100\n",
            "25/25 [==============================] - ETA: 0s - loss: 1.0095 - accuracy: 0.6245\n",
            "Epoch 67: val_loss did not improve from 1.49322\n",
            "25/25 [==============================] - 1s 36ms/step - loss: 1.0095 - accuracy: 0.6245 - val_loss: 1.5495 - val_accuracy: 0.5300\n",
            "Epoch 68/100\n",
            "23/25 [==========================>...] - ETA: 0s - loss: 1.0484 - accuracy: 0.6073\n",
            "Epoch 68: val_loss did not improve from 1.49322\n",
            "25/25 [==============================] - 1s 35ms/step - loss: 1.0414 - accuracy: 0.6183 - val_loss: 1.5652 - val_accuracy: 0.5350\n",
            "Epoch 69/100\n",
            "24/25 [===========================>..] - ETA: 0s - loss: 1.0287 - accuracy: 0.6276\n",
            "Epoch 69: val_loss did not improve from 1.49322\n",
            "25/25 [==============================] - 1s 29ms/step - loss: 1.0179 - accuracy: 0.6320 - val_loss: 1.7478 - val_accuracy: 0.5450\n",
            "Epoch 70/100\n",
            "25/25 [==============================] - ETA: 0s - loss: 1.0001 - accuracy: 0.6320\n",
            "Epoch 70: val_loss did not improve from 1.49322\n",
            "25/25 [==============================] - 1s 31ms/step - loss: 1.0001 - accuracy: 0.6320 - val_loss: 1.7544 - val_accuracy: 0.5250\n",
            "Epoch 71/100\n",
            "24/25 [===========================>..] - ETA: 0s - loss: 0.9988 - accuracy: 0.6328\n",
            "Epoch 71: val_loss did not improve from 1.49322\n",
            "25/25 [==============================] - 1s 35ms/step - loss: 0.9842 - accuracy: 0.6383 - val_loss: 1.6939 - val_accuracy: 0.5450\n",
            "Epoch 72/100\n",
            "24/25 [===========================>..] - ETA: 0s - loss: 1.0209 - accuracy: 0.6576\n",
            "Epoch 72: val_loss did not improve from 1.49322\n",
            "25/25 [==============================] - 1s 29ms/step - loss: 1.0198 - accuracy: 0.6571 - val_loss: 1.5449 - val_accuracy: 0.5350\n",
            "Epoch 73/100\n",
            "24/25 [===========================>..] - ETA: 0s - loss: 1.0051 - accuracy: 0.6406\n",
            "Epoch 73: val_loss did not improve from 1.49322\n",
            "25/25 [==============================] - 1s 31ms/step - loss: 0.9953 - accuracy: 0.6421 - val_loss: 1.6268 - val_accuracy: 0.5300\n",
            "Epoch 74/100\n",
            "22/25 [=========================>....] - ETA: 0s - loss: 0.9417 - accuracy: 0.6804\n",
            "Epoch 74: val_loss did not improve from 1.49322\n",
            "25/25 [==============================] - 1s 21ms/step - loss: 0.9368 - accuracy: 0.6746 - val_loss: 1.7687 - val_accuracy: 0.5600\n",
            "Epoch 75/100\n",
            "25/25 [==============================] - ETA: 0s - loss: 1.0196 - accuracy: 0.6583\n",
            "Epoch 75: val_loss did not improve from 1.49322\n",
            "25/25 [==============================] - 1s 23ms/step - loss: 1.0196 - accuracy: 0.6583 - val_loss: 1.6414 - val_accuracy: 0.5600\n",
            "Epoch 76/100\n",
            "25/25 [==============================] - ETA: 0s - loss: 1.0012 - accuracy: 0.6408\n",
            "Epoch 76: val_loss did not improve from 1.49322\n",
            "25/25 [==============================] - 0s 20ms/step - loss: 1.0012 - accuracy: 0.6408 - val_loss: 1.5583 - val_accuracy: 0.5950\n",
            "Epoch 77/100\n",
            "24/25 [===========================>..] - ETA: 0s - loss: 0.9910 - accuracy: 0.6406\n",
            "Epoch 77: val_loss did not improve from 1.49322\n",
            "25/25 [==============================] - 1s 20ms/step - loss: 0.9794 - accuracy: 0.6446 - val_loss: 1.5438 - val_accuracy: 0.5700\n",
            "Epoch 78/100\n",
            "25/25 [==============================] - ETA: 0s - loss: 0.9749 - accuracy: 0.6746\n",
            "Epoch 78: val_loss did not improve from 1.49322\n",
            "25/25 [==============================] - 1s 21ms/step - loss: 0.9749 - accuracy: 0.6746 - val_loss: 1.7588 - val_accuracy: 0.5300\n",
            "Epoch 79/100\n",
            "24/25 [===========================>..] - ETA: 0s - loss: 0.8827 - accuracy: 0.6875\n",
            "Epoch 79: val_loss did not improve from 1.49322\n",
            "25/25 [==============================] - 1s 20ms/step - loss: 0.8736 - accuracy: 0.6921 - val_loss: 1.9369 - val_accuracy: 0.5450\n",
            "Epoch 80/100\n",
            "24/25 [===========================>..] - ETA: 0s - loss: 0.8521 - accuracy: 0.6888\n",
            "Epoch 80: val_loss did not improve from 1.49322\n",
            "25/25 [==============================] - 0s 19ms/step - loss: 0.8640 - accuracy: 0.6884 - val_loss: 1.7166 - val_accuracy: 0.5400\n",
            "Epoch 81/100\n",
            "22/25 [=========================>....] - ETA: 0s - loss: 0.8481 - accuracy: 0.7145\n",
            "Epoch 81: val_loss did not improve from 1.49322\n",
            "25/25 [==============================] - 0s 19ms/step - loss: 0.8805 - accuracy: 0.7171 - val_loss: 1.5416 - val_accuracy: 0.5850\n",
            "Epoch 82/100\n",
            "23/25 [==========================>...] - ETA: 0s - loss: 0.8011 - accuracy: 0.7283\n",
            "Epoch 82: val_loss did not improve from 1.49322\n",
            "25/25 [==============================] - 0s 18ms/step - loss: 0.8080 - accuracy: 0.7309 - val_loss: 1.5529 - val_accuracy: 0.5700\n",
            "Epoch 83/100\n",
            "25/25 [==============================] - ETA: 0s - loss: 0.8355 - accuracy: 0.7171\n",
            "Epoch 83: val_loss did not improve from 1.49322\n",
            "25/25 [==============================] - 0s 20ms/step - loss: 0.8355 - accuracy: 0.7171 - val_loss: 1.7539 - val_accuracy: 0.5950\n",
            "Epoch 84/100\n",
            "22/25 [=========================>....] - ETA: 0s - loss: 0.8864 - accuracy: 0.7088\n",
            "Epoch 84: val_loss did not improve from 1.49322\n",
            "25/25 [==============================] - 0s 20ms/step - loss: 0.8633 - accuracy: 0.7109 - val_loss: 1.6858 - val_accuracy: 0.5950\n",
            "Epoch 85/100\n",
            "25/25 [==============================] - ETA: 0s - loss: 0.7787 - accuracy: 0.7209\n",
            "Epoch 85: val_loss did not improve from 1.49322\n",
            "25/25 [==============================] - 1s 27ms/step - loss: 0.7787 - accuracy: 0.7209 - val_loss: 1.6476 - val_accuracy: 0.6250\n",
            "Epoch 86/100\n",
            "25/25 [==============================] - ETA: 0s - loss: 0.8599 - accuracy: 0.7184\n",
            "Epoch 86: val_loss did not improve from 1.49322\n",
            "25/25 [==============================] - 1s 25ms/step - loss: 0.8599 - accuracy: 0.7184 - val_loss: 1.4985 - val_accuracy: 0.5750\n",
            "Epoch 87/100\n",
            "23/25 [==========================>...] - ETA: 0s - loss: 0.8048 - accuracy: 0.7215\n",
            "Epoch 87: val_loss did not improve from 1.49322\n",
            "25/25 [==============================] - 0s 20ms/step - loss: 0.7890 - accuracy: 0.7309 - val_loss: 1.9252 - val_accuracy: 0.5400\n",
            "Epoch 88/100\n",
            "25/25 [==============================] - ETA: 0s - loss: 0.8495 - accuracy: 0.7309\n",
            "Epoch 88: val_loss did not improve from 1.49322\n",
            "25/25 [==============================] - 1s 21ms/step - loss: 0.8495 - accuracy: 0.7309 - val_loss: 1.8867 - val_accuracy: 0.5950\n",
            "Epoch 89/100\n",
            "22/25 [=========================>....] - ETA: 0s - loss: 0.7437 - accuracy: 0.7472\n",
            "Epoch 89: val_loss did not improve from 1.49322\n",
            "25/25 [==============================] - 0s 18ms/step - loss: 0.7775 - accuracy: 0.7447 - val_loss: 1.7799 - val_accuracy: 0.5900\n",
            "Epoch 90/100\n",
            "24/25 [===========================>..] - ETA: 0s - loss: 0.7830 - accuracy: 0.7253\n",
            "Epoch 90: val_loss did not improve from 1.49322\n",
            "25/25 [==============================] - 1s 22ms/step - loss: 0.8041 - accuracy: 0.7247 - val_loss: 1.9627 - val_accuracy: 0.5950\n",
            "Epoch 91/100\n",
            "24/25 [===========================>..] - ETA: 0s - loss: 0.7728 - accuracy: 0.7383\n",
            "Epoch 91: val_loss did not improve from 1.49322\n",
            "25/25 [==============================] - 0s 20ms/step - loss: 0.7646 - accuracy: 0.7397 - val_loss: 1.6248 - val_accuracy: 0.6250\n",
            "Epoch 92/100\n",
            "25/25 [==============================] - ETA: 0s - loss: 0.7453 - accuracy: 0.7584\n",
            "Epoch 92: val_loss did not improve from 1.49322\n",
            "25/25 [==============================] - 1s 21ms/step - loss: 0.7453 - accuracy: 0.7584 - val_loss: 1.7022 - val_accuracy: 0.5500\n",
            "Epoch 93/100\n",
            "23/25 [==========================>...] - ETA: 0s - loss: 0.7470 - accuracy: 0.7622\n",
            "Epoch 93: val_loss did not improve from 1.49322\n",
            "25/25 [==============================] - 1s 27ms/step - loss: 0.7669 - accuracy: 0.7572 - val_loss: 1.6447 - val_accuracy: 0.5750\n",
            "Epoch 94/100\n",
            "24/25 [===========================>..] - ETA: 0s - loss: 0.6549 - accuracy: 0.7747\n",
            "Epoch 94: val_loss did not improve from 1.49322\n",
            "25/25 [==============================] - 1s 29ms/step - loss: 0.6500 - accuracy: 0.7760 - val_loss: 1.8094 - val_accuracy: 0.5950\n",
            "Epoch 95/100\n",
            "24/25 [===========================>..] - ETA: 0s - loss: 0.6673 - accuracy: 0.7826\n",
            "Epoch 95: val_loss did not improve from 1.49322\n",
            "25/25 [==============================] - 1s 27ms/step - loss: 0.6694 - accuracy: 0.7860 - val_loss: 1.9208 - val_accuracy: 0.5950\n",
            "Epoch 96/100\n",
            "25/25 [==============================] - ETA: 0s - loss: 0.7558 - accuracy: 0.7434\n",
            "Epoch 96: val_loss did not improve from 1.49322\n",
            "25/25 [==============================] - 1s 25ms/step - loss: 0.7558 - accuracy: 0.7434 - val_loss: 1.9714 - val_accuracy: 0.5450\n",
            "Epoch 97/100\n",
            "24/25 [===========================>..] - ETA: 0s - loss: 0.6948 - accuracy: 0.7630\n",
            "Epoch 97: val_loss did not improve from 1.49322\n",
            "25/25 [==============================] - 1s 27ms/step - loss: 0.6913 - accuracy: 0.7597 - val_loss: 2.0067 - val_accuracy: 0.5950\n",
            "Epoch 98/100\n",
            "24/25 [===========================>..] - ETA: 0s - loss: 0.5923 - accuracy: 0.8086\n",
            "Epoch 98: val_loss did not improve from 1.49322\n",
            "25/25 [==============================] - 1s 29ms/step - loss: 0.5911 - accuracy: 0.8073 - val_loss: 1.9931 - val_accuracy: 0.6100\n",
            "Epoch 99/100\n",
            "25/25 [==============================] - ETA: 0s - loss: 0.6538 - accuracy: 0.7797\n",
            "Epoch 99: val_loss did not improve from 1.49322\n",
            "25/25 [==============================] - 1s 26ms/step - loss: 0.6538 - accuracy: 0.7797 - val_loss: 2.3592 - val_accuracy: 0.5900\n",
            "Epoch 100/100\n",
            "24/25 [===========================>..] - ETA: 0s - loss: 0.7527 - accuracy: 0.7682\n",
            "Epoch 100: val_loss did not improve from 1.49322\n",
            "25/25 [==============================] - 1s 31ms/step - loss: 0.7466 - accuracy: 0.7672 - val_loss: 2.0193 - val_accuracy: 0.5850\n",
            "Training selesai:  0:01:24.118880\n"
          ]
        }
      ]
    },
    {
      "cell_type": "code",
      "source": [
        "model.evaluate(X_test, y_test, verbose=0)"
      ],
      "metadata": {
        "colab": {
          "base_uri": "https://localhost:8080/"
        },
        "id": "w2TX6dfjs0tH",
        "outputId": "3632fab1-adf7-4ccf-bb58-361ed85d6dc6"
      },
      "execution_count": null,
      "outputs": [
        {
          "output_type": "execute_result",
          "data": {
            "text/plain": [
              "[2.0192856788635254, 0.5849999785423279]"
            ]
          },
          "metadata": {},
          "execution_count": 25
        }
      ]
    },
    {
      "cell_type": "code",
      "source": [
        "pd.DataFrame(history.history).plot(figsize=(12,6))\n",
        "plt.show()"
      ],
      "metadata": {
        "colab": {
          "base_uri": "https://localhost:8080/",
          "height": 522
        },
        "id": "aRzLC1Zgs-AF",
        "outputId": "38297ac4-3a89-43a2-939e-4ff73b431d5a"
      },
      "execution_count": null,
      "outputs": [
        {
          "output_type": "display_data",
          "data": {
            "text/plain": [
              "<Figure size 1200x600 with 1 Axes>"
            ],
            "image/png": "[encoded data removed]"
          },
          "metadata": {}
        }
      ]
    },
    {
      "cell_type": "code",
      "source": [
        "import numpy as np\n",
        "\n",
        "# Misalkan model Anda adalah model Keras Sequential\n",
        "predictions = model.predict(X_test)\n",
        "predicted_classes = np.argmax(predictions, axis=1)\n",
        "\n",
        "# Set print options for better readability\n",
        "np.set_printoptions(linewidth=150)\n",
        "print(predicted_classes)\n"
      ],
      "metadata": {
        "colab": {
          "base_uri": "https://localhost:8080/"
        },
        "id": "rY9qBI55tVNL",
        "outputId": "2f999815-f748-40b5-c5a7-98385ce89d5e"
      },
      "execution_count": null,
      "outputs": [
        {
          "output_type": "stream",
          "name": "stdout",
          "text": [
            "7/7 [==============================] - 0s 5ms/step\n",
            "[7 0 0 6 9 5 3 4 0 3 6 2 3 8 9 9 3 3 9 2 9 4 5 9 1 2 0 3 4 3 6 3 3 4 7 7 0 4 5 3 9 5 6 0 2 9 7 9 3 8 6 3 3 1 8 4 4 2 8 5 8 6 5 9 7 8 5 8 9 8 5 5 5 3\n",
            " 6 6 6 6 6 2 6 5 6 5 3 3 5 9 9 7 3 8 5 5 2 6 3 3 5 0 1 5 6 6 7 5 1 0 5 5 0 1 8 8 9 0 3 5 9 5 0 4 8 6 2 9 2 4 6 3 7 4 7 3 9 3 3 1 7 2 5 5 6 9 4 0 0 5\n",
            " 0 5 3 9 7 5 5 2 4 4 6 4 1 5 1 5 7 5 3 7 1 0 2 8 3 9 6 1 7 4 5 4 2 9 3 6 3 5 9 4 5 0 6 6 7 8 6 5 2 8 3 4]\n"
          ]
        }
      ]
    },
    {
      "cell_type": "code",
      "source": [
        "filename=\"/content/drive/MyDrive/dataCNN/genres_original/blues/blues.00000.wav\"\n",
        "audio, sample_rate = librosa.load(filename, res_type='kaiser_fast')\n",
        "mfccs_features = librosa.feature.mfcc(y=audio, sr=sample_rate, n_mfcc=40)\n",
        "mfccs_scaled_features = np.mean(mfccs_features.T, axis=0)\n",
        "\n",
        "print(mfccs_scaled_features)\n",
        "mfccs_scaled_features = mfccs_scaled_features.reshape(1, -1)\n",
        "print(mfccs_scaled_features)\n",
        "print(mfccs_scaled_features.shape)\n",
        "\n",
        "# Menggunakan model.predict dan np.argmax untuk mendapatkan kelas prediksi\n",
        "predicted_label = model.predict(mfccs_scaled_features)\n",
        "predicted_label = np.argmax(predicted_label, axis=1)\n",
        "print(predicted_label)\n",
        "\n",
        "# Konversi kelas prediksi menjadi label asli menggunakan labelencoder\n",
        "prediction_class = labelencoder.inverse_transform(predicted_label)\n",
        "print(prediction_class)\n"
      ],
      "metadata": {
        "colab": {
          "base_uri": "https://localhost:8080/"
        },
        "id": "oA_wJwW3uMT8",
        "outputId": "d9e0c6e8-c40e-4804-b854-9dbd0cceae4c"
      },
      "execution_count": null,
      "outputs": [
        {
          "output_type": "stream",
          "name": "stdout",
          "text": [
            "[-1.1359882e+02  1.2157067e+02 -1.9162262e+01  4.2363941e+01 -6.3622661e+00  1.8621931e+01 -1.3699734e+01  1.5339802e+01 -1.2274305e+01\n",
            "  1.0970944e+01 -8.3260612e+00  8.8020878e+00 -3.6699412e+00  5.7446752e+00 -5.1627831e+00  7.5170648e-01 -1.6878541e+00 -4.0872991e-01\n",
            " -2.3026767e+00  1.2224669e+00 -3.5328746e+00 -1.1397806e+00 -4.2828279e+00 -4.2260838e+00  9.1518748e-01  9.1406375e-01 -5.7618070e+00\n",
            " -3.9328036e+00  1.5094348e+00  2.6984653e+00  5.6560731e+00 -3.2690079e+00 -2.0606370e-01 -2.9996979e+00  4.4763169e+00 -4.7685507e-01\n",
            "  6.0062852e+00 -5.9690390e-02 -3.4585848e+00 -1.8418322e+00]\n",
            "[[-1.1359882e+02  1.2157067e+02 -1.9162262e+01  4.2363941e+01 -6.3622661e+00  1.8621931e+01 -1.3699734e+01  1.5339802e+01 -1.2274305e+01\n",
            "   1.0970944e+01 -8.3260612e+00  8.8020878e+00 -3.6699412e+00  5.7446752e+00 -5.1627831e+00  7.5170648e-01 -1.6878541e+00 -4.0872991e-01\n",
            "  -2.3026767e+00  1.2224669e+00 -3.5328746e+00 -1.1397806e+00 -4.2828279e+00 -4.2260838e+00  9.1518748e-01  9.1406375e-01 -5.7618070e+00\n",
            "  -3.9328036e+00  1.5094348e+00  2.6984653e+00  5.6560731e+00 -3.2690079e+00 -2.0606370e-01 -2.9996979e+00  4.4763169e+00 -4.7685507e-01\n",
            "   6.0062852e+00 -5.9690390e-02 -3.4585848e+00 -1.8418322e+00]]\n",
            "(1, 40)\n",
            "1/1 [==============================] - 0s 28ms/step\n",
            "[0]\n",
            "['blues']\n"
          ]
        }
      ]
    },
    {
      "cell_type": "markdown",
      "source": [
        "TAHAP EVALUASI"
      ],
      "metadata": {
        "id": "e_VS-KWMPX9i"
      }
    },
    {
      "cell_type": "code",
      "source": [
        "!pip install tensorflow-addons\n",
        "!pip install keras-tuner"
      ],
      "metadata": {
        "colab": {
          "base_uri": "https://localhost:8080/"
        },
        "id": "IMOm7QjiLuQN",
        "outputId": "5199e492-8492-4488-bd45-ccb3e6686ffe"
      },
      "execution_count": null,
      "outputs": [
        {
          "output_type": "stream",
          "name": "stdout",
          "text": [
            "Collecting tensorflow-addons\n",
            "  Downloading tensorflow_addons-0.23.0-cp310-cp310-manylinux_2_17_x86_64.manylinux2014_x86_64.whl (611 kB)\n",
            "\u001b[?25l     \u001b[90m━━━━━━━━━━━━━━━━━━━━━━━━━━━━━━━━━━━━━━━━\u001b[0m \u001b[32m0.0/611.8 kB\u001b[0m \u001b[31m?\u001b[0m eta \u001b[36m-:--:--\u001b[0m\r\u001b[2K     \u001b[91m━━━━━━━━━━━━━\u001b[0m\u001b[90m╺\u001b[0m\u001b[90m━━━━━━━━━━━━━━━━━━━━━━━━━━\u001b[0m \u001b[32m204.8/611.8 kB\u001b[0m \u001b[31m5.9 MB/s\u001b[0m eta \u001b[36m0:00:01\u001b[0m\r\u001b[2K     \u001b[90m━━━━━━━━━━━━━━━━━━━━━━━━━━━━━━━━━━━━━━━━\u001b[0m \u001b[32m611.8/611.8 kB\u001b[0m \u001b[31m10.1 MB/s\u001b[0m eta \u001b[36m0:00:00\u001b[0m\n",
            "\u001b[?25hRequirement already satisfied: packaging in /usr/local/lib/python3.10/dist-packages (from tensorflow-addons) (24.1)\n",
            "Collecting typeguard<3.0.0,>=2.7 (from tensorflow-addons)\n",
            "  Downloading typeguard-2.13.3-py3-none-any.whl (17 kB)\n",
            "Installing collected packages: typeguard, tensorflow-addons\n",
            "Successfully installed tensorflow-addons-0.23.0 typeguard-2.13.3\n",
            "Requirement already satisfied: keras-tuner in /usr/local/lib/python3.10/dist-packages (1.4.7)\n",
            "Requirement already satisfied: keras in /usr/local/lib/python3.10/dist-packages (from keras-tuner) (2.15.0)\n",
            "Requirement already satisfied: packaging in /usr/local/lib/python3.10/dist-packages (from keras-tuner) (24.1)\n",
            "Requirement already satisfied: requests in /usr/local/lib/python3.10/dist-packages (from keras-tuner) (2.31.0)\n",
            "Requirement already satisfied: kt-legacy in /usr/local/lib/python3.10/dist-packages (from keras-tuner) (1.0.5)\n",
            "Requirement already satisfied: charset-normalizer<4,>=2 in /usr/local/lib/python3.10/dist-packages (from requests->keras-tuner) (3.3.2)\n",
            "Requirement already satisfied: idna<4,>=2.5 in /usr/local/lib/python3.10/dist-packages (from requests->keras-tuner) (3.7)\n",
            "Requirement already satisfied: urllib3<3,>=1.21.1 in /usr/local/lib/python3.10/dist-packages (from requests->keras-tuner) (2.0.7)\n",
            "Requirement already satisfied: certifi>=2017.4.17 in /usr/local/lib/python3.10/dist-packages (from requests->keras-tuner) (2024.6.2)\n"
          ]
        }
      ]
    },
    {
      "cell_type": "code",
      "source": [
        "from sklearn.model_selection import KFold\n",
        "from sklearn.metrics import accuracy_score, precision_score, recall_score, f1_score\n",
        "from tensorflow.keras.models import Sequential\n",
        "from tensorflow.keras.layers import Dense, Dropout\n",
        "from tensorflow.keras.utils import to_categorical"
      ],
      "metadata": {
        "id": "zgf97Na90B1x"
      },
      "execution_count": null,
      "outputs": []
    },
    {
      "cell_type": "code",
      "source": [
        "import pandas as pd\n",
        "import numpy as np\n",
        "import os\n",
        "import librosa\n",
        "\n",
        "# Path ke direktori audio dataset\n",
        "audio_dataset_path = '/content/drive/MyDrive/dataCNN/genres_original'\n",
        "\n",
        "# Membuat fungsi untuk mengekstrak fitur dari file audio\n",
        "def features_extractor(file):\n",
        "    try:\n",
        "        audio, sample_rate = librosa.load(file, res_type='kaiser_fast')\n",
        "        mfccs_features = librosa.feature.mfcc(y=audio, sr=sample_rate, n_mfcc=40)\n",
        "        mfccs_scaled_features = np.mean(mfccs_features.T, axis=0)\n",
        "    except Exception as e:\n",
        "        print(f\"Error extracting features from {file}: {e}\")\n",
        "        return None\n",
        "    return mfccs_scaled_features\n",
        "\n",
        "# Inisialisasi list untuk menyimpan fitur yang diekstraksi\n",
        "extracted_features = []\n",
        "\n",
        "# Iterasi melalui metadata untuk setiap file audio\n",
        "for index_num, row in metadata.iterrows():\n",
        "    final_class_label = row[\"label\"]\n",
        "    file_name = os.path.join(audio_dataset_path, final_class_label, str(row[\"filename\"]))\n",
        "    data = features_extractor(file_name)\n",
        "    if data is not None:\n",
        "        extracted_features.append([data, final_class_label])\n",
        "\n",
        "# Membuat DataFrame dari fitur yang diekstraksi\n",
        "extracted_features_df = pd.DataFrame(extracted_features, columns=['feature', 'class'])\n",
        "\n",
        "# Menyimpan DataFrame ke dalam file CSV\n",
        "extracted_features_df.to_csv('extracted_features.csv', index=False)\n",
        "\n",
        "# Menampilkan jumlah data per kelas\n",
        "print(extracted_features_df['class'].value_counts())"
      ],
      "metadata": {
        "colab": {
          "base_uri": "https://localhost:8080/"
        },
        "id": "5FWgFoNlJCYw",
        "outputId": "57bcca38-47b6-4f75-fa7d-1f1a32370ee6"
      },
      "execution_count": null,
      "outputs": [
        {
          "output_type": "stream",
          "name": "stderr",
          "text": [
            "<ipython-input-93-457807818379>:12: UserWarning: PySoundFile failed. Trying audioread instead.\n",
            "  audio, sample_rate = librosa.load(file, res_type='kaiser_fast')\n",
            "/usr/local/lib/python3.10/dist-packages/librosa/core/audio.py:184: FutureWarning: librosa.core.audio.__audioread_load\n",
            "\tDeprecated as of librosa version 0.10.0.\n",
            "\tIt will be removed in librosa version 1.0.\n",
            "  y, sr_native = __audioread_load(path, offset, duration, dtype)\n"
          ]
        },
        {
          "output_type": "stream",
          "name": "stdout",
          "text": [
            "Error extracting features from /content/drive/MyDrive/dataCNN/genres_original/jazz/jazz.00054.wav: \n",
            "class\n",
            "blues        100\n",
            "classical    100\n",
            "country      100\n",
            "disco        100\n",
            "hiphop       100\n",
            "metal        100\n",
            "pop          100\n",
            "reggae       100\n",
            "rock         100\n",
            "jazz          99\n",
            "Name: count, dtype: int64\n"
          ]
        }
      ]
    },
    {
      "cell_type": "markdown",
      "source": [
        "Tuning Hyper-Parameter"
      ],
      "metadata": {
        "id": "mLoOUGrHZqB-"
      }
    },
    {
      "cell_type": "code",
      "source": [
        "import pandas as pd\n",
        "import numpy as np\n",
        "import os\n",
        "import librosa\n",
        "from sklearn.model_selection import train_test_split, StratifiedKFold\n",
        "from sklearn.preprocessing import LabelEncoder\n",
        "from sklearn.metrics import accuracy_score\n",
        "from kerastuner.tuners import RandomSearch\n",
        "from tensorflow.keras.models import Sequential\n",
        "from tensorflow.keras.layers import Dense, Dropout\n",
        "from tensorflow.keras.utils import to_categorical\n",
        "import joblib\n",
        "\n",
        "# Mount Google Drive jika Anda menggunakan Google Colab\n",
        "from google.colab import drive\n",
        "drive.mount('/content/drive')\n",
        "\n",
        "# Path dataset audio dan metadata\n",
        "audio_dataset_path = '/content/drive/MyDrive/dataCNN/genres_original'\n",
        "metadata_path = '/content/drive/MyDrive/dataCNN/features_30_sec.csv'\n",
        "\n",
        "# Load metadata\n",
        "metadata = pd.read_csv(metadata_path)\n",
        "\n",
        "# Fungsi ekstraksi fitur MFCC\n",
        "def features_extractor(file):\n",
        "    audio, sample_rate = librosa.load(file, res_type='kaiser_fast')\n",
        "    mfccs_features = librosa.feature.mfcc(y=audio, sr=sample_rate, n_mfcc=40)\n",
        "    mfccs_scaled_features = np.mean(mfccs_features.T, axis=0)\n",
        "    return mfccs_scaled_features\n",
        "\n",
        "# Ekstraksi fitur untuk setiap file dalam metadata\n",
        "extracted_features = []\n",
        "for index, row in metadata.iterrows():\n",
        "    file_name = os.path.join(os.path.abspath(audio_dataset_path), row['label'], str(row['filename']))\n",
        "    try:\n",
        "        data = features_extractor(file_name)\n",
        "        extracted_features.append([data, row['label']])\n",
        "    except Exception as e:\n",
        "        print(f\"Error extracting features from {file_name}: {e}\")\n",
        "\n",
        "# Buat DataFrame dari fitur yang diekstraksi\n",
        "extracted_features_df = pd.DataFrame(extracted_features, columns=['feature', 'class'])\n",
        "\n",
        "# Encoding label kelas menggunakan LabelEncoder\n",
        "labelencoder = LabelEncoder()\n",
        "extracted_features_df['class'] = labelencoder.fit_transform(extracted_features_df['class'])\n",
        "X = np.array(extracted_features_df['feature'].tolist())\n",
        "y = to_categorical(extracted_features_df['class'])\n",
        "\n",
        "# Split data menjadi training dan testing\n",
        "X_train, X_test, y_train, y_test = train_test_split(X, y, test_size=0.2, random_state=0)\n"
      ],
      "metadata": {
        "colab": {
          "base_uri": "https://localhost:8080/"
        },
        "id": "WdjRuzGcNwA0",
        "outputId": "7338f737-4c1f-4ed2-d2b7-0f842d412b02"
      },
      "execution_count": null,
      "outputs": [
        {
          "output_type": "stream",
          "name": "stdout",
          "text": [
            "Drive already mounted at /content/drive; to attempt to forcibly remount, call drive.mount(\"/content/drive\", force_remount=True).\n"
          ]
        },
        {
          "output_type": "stream",
          "name": "stderr",
          "text": [
            "<ipython-input-108-494e2d5c029e>:27: UserWarning: PySoundFile failed. Trying audioread instead.\n",
            "  audio, sample_rate = librosa.load(file, res_type='kaiser_fast')\n",
            "/usr/local/lib/python3.10/dist-packages/librosa/core/audio.py:184: FutureWarning: librosa.core.audio.__audioread_load\n",
            "\tDeprecated as of librosa version 0.10.0.\n",
            "\tIt will be removed in librosa version 1.0.\n",
            "  y, sr_native = __audioread_load(path, offset, duration, dtype)\n"
          ]
        },
        {
          "output_type": "stream",
          "name": "stdout",
          "text": [
            "Error extracting features from /content/drive/MyDrive/dataCNN/genres_original/jazz/jazz.00054.wav: \n"
          ]
        }
      ]
    },
    {
      "cell_type": "code",
      "source": [
        "import pickle\n",
        "from tensorflow.keras.models import Sequential\n",
        "from tensorflow.keras.layers import Dense, Dropout\n",
        "from kerastuner.tuners import RandomSearch\n",
        "\n",
        "# Definisikan fungsi untuk membangun model\n",
        "def build_model(hp):\n",
        "    model = Sequential()\n",
        "    model.add(Dense(units=hp.Int('units_input', min_value=512, max_value=1024, step=128),\n",
        "                    input_shape=(40,), activation='relu'))\n",
        "    model.add(Dropout(rate=hp.Choice('dropout_input', values=[0.2, 0.3, 0.4])))\n",
        "\n",
        "    for i in range(hp.Int('num_layers', 1, 4)):\n",
        "        model.add(Dense(units=hp.Int(f'units_{i}', min_value=128, max_value=512, step=64),\n",
        "                        activation='relu'))\n",
        "        model.add(Dropout(rate=hp.Choice(f'dropout_{i}', values=[0.2, 0.3, 0.4])))\n",
        "\n",
        "    model.add(Dense(10, activation='softmax'))  # Output layer dengan 10 kelas (sesuai dengan jumlah kelas)\n",
        "\n",
        "    model.compile(optimizer='adam',\n",
        "                  loss='categorical_crossentropy',\n",
        "                  metrics=['accuracy'])\n",
        "    return model\n",
        "\n",
        "# Inisialisasi tuner untuk pencarian hyperparameter\n",
        "tuner = RandomSearch(\n",
        "    build_model,\n",
        "    objective='val_accuracy',\n",
        "    max_trials=5,  # Jumlah percobaan maksimum untuk pencarian acak\n",
        "    executions_per_trial=1,  # Jumlah iterasi validasi untuk setiap percobaan\n",
        "    directory='my_dir',  # Direktori untuk menyimpan log dan hasil tuning\n",
        "    project_name='audio_classification')  # Nama proyek untuk penyimpanan\n",
        "\n",
        "# Lakukan pencarian tuner\n",
        "tuner.search(X_train, y_train, epochs=10, validation_data=(X_test, y_test))\n",
        "\n",
        "# Ambil model terbaik\n",
        "best_model = tuner.get_best_models(num_models=1)[0]\n",
        "\n",
        "# Evaluasi model terbaik pada data tes\n",
        "loss, accuracy = best_model.evaluate(X_test, y_test)\n",
        "print(f'Loss: {loss}, Accuracy: {accuracy}')\n",
        "\n",
        "# Simpan model terbaik menggunakan format h5\n",
        "best_model.save('model.h5')\n",
        "\n",
        "# Simpan label encoder menggunakan pickle\n",
        "with open('labelencoder.pkl', 'wb') as file:\n",
        "    pickle.dump(labelencoder, file)\n"
      ],
      "metadata": {
        "colab": {
          "base_uri": "https://localhost:8080/"
        },
        "id": "G6S2qLO5J8H-",
        "outputId": "f824ecda-a1d7-4c95-d247-4518a94e8c90"
      },
      "execution_count": null,
      "outputs": [
        {
          "output_type": "stream",
          "name": "stdout",
          "text": [
            "Reloading Tuner from my_dir/audio_classification/tuner0.json\n"
          ]
        },
        {
          "output_type": "stream",
          "name": "stderr",
          "text": [
            "WARNING:tensorflow:Detecting that an object or model or tf.train.Checkpoint is being deleted with unrestored values. See the following logs for the specific values in question. To silence these warnings, use `status.expect_partial()`. See https://www.tensorflow.org/api_docs/python/tf/train/Checkpoint#restorefor details about the status object returned by the restore function.\n",
            "WARNING:tensorflow:Value in checkpoint could not be found in the restored object: (root).optimizer._variables.1\n",
            "WARNING:tensorflow:Value in checkpoint could not be found in the restored object: (root).optimizer._variables.2\n",
            "WARNING:tensorflow:Value in checkpoint could not be found in the restored object: (root).optimizer._variables.3\n",
            "WARNING:tensorflow:Value in checkpoint could not be found in the restored object: (root).optimizer._variables.4\n",
            "WARNING:tensorflow:Value in checkpoint could not be found in the restored object: (root).optimizer._variables.5\n",
            "WARNING:tensorflow:Value in checkpoint could not be found in the restored object: (root).optimizer._variables.6\n",
            "WARNING:tensorflow:Value in checkpoint could not be found in the restored object: (root).optimizer._variables.7\n",
            "WARNING:tensorflow:Value in checkpoint could not be found in the restored object: (root).optimizer._variables.8\n",
            "WARNING:tensorflow:Value in checkpoint could not be found in the restored object: (root).optimizer._variables.9\n",
            "WARNING:tensorflow:Value in checkpoint could not be found in the restored object: (root).optimizer._variables.10\n",
            "WARNING:tensorflow:Value in checkpoint could not be found in the restored object: (root).optimizer._variables.11\n",
            "WARNING:tensorflow:Value in checkpoint could not be found in the restored object: (root).optimizer._variables.12\n",
            "WARNING:tensorflow:Value in checkpoint could not be found in the restored object: (root).optimizer._variables.13\n",
            "WARNING:tensorflow:Value in checkpoint could not be found in the restored object: (root).optimizer._variables.14\n",
            "WARNING:tensorflow:Value in checkpoint could not be found in the restored object: (root).optimizer._variables.15\n",
            "WARNING:tensorflow:Value in checkpoint could not be found in the restored object: (root).optimizer._variables.16\n"
          ]
        },
        {
          "output_type": "stream",
          "name": "stdout",
          "text": [
            "7/7 [==============================] - 0s 5ms/step - loss: 1.4050 - accuracy: 0.5100\n",
            "Loss: 1.4050408601760864, Accuracy: 0.5099999904632568\n"
          ]
        },
        {
          "output_type": "stream",
          "name": "stderr",
          "text": [
            "/usr/local/lib/python3.10/dist-packages/keras/src/engine/training.py:3103: UserWarning: You are saving your model as an HDF5 file via `model.save()`. This file format is considered legacy. We recommend using instead the native Keras format, e.g. `model.save('my_model.keras')`.\n",
            "  saving_api.save_model(\n"
          ]
        }
      ]
    },
    {
      "cell_type": "markdown",
      "source": [
        "K-Fold-Cross-Validation"
      ],
      "metadata": {
        "id": "vxK1gVHIOWc0"
      }
    },
    {
      "cell_type": "code",
      "source": [
        "from tensorflow.keras.models import Sequential\n",
        "from tensorflow.keras.layers import Dense, Dropout\n",
        "from sklearn.model_selection import StratifiedKFold\n",
        "import numpy as np\n",
        "\n",
        "kfold = StratifiedKFold(n_splits=5, shuffle=True, random_state=0)\n",
        "cv_scores = []\n",
        "\n",
        "for train_idx, val_idx in kfold.split(X, np.argmax(y, axis=1)):\n",
        "    model = Sequential([\n",
        "        Dense(1024, input_shape=(40,), activation='relu'),\n",
        "        Dropout(0.3),\n",
        "        Dense(512, activation='relu'),\n",
        "        Dropout(0.3),\n",
        "        Dense(256, activation='relu'),\n",
        "        Dropout(0.3),\n",
        "        Dense(128, activation='relu'),\n",
        "        Dropout(0.3),\n",
        "        Dense(64, activation='relu'),\n",
        "        Dropout(0.3),\n",
        "        Dense(32, activation='relu'),\n",
        "        Dropout(0.3),\n",
        "        Dense(10, activation='softmax')  # Output layer dengan 10 kelas\n",
        "    ])\n",
        "\n",
        "    model.compile(optimizer='adam',\n",
        "                  loss='categorical_crossentropy',\n",
        "                  metrics=['accuracy'])\n",
        "\n",
        "    model.fit(X[train_idx], y[train_idx], epochs=10, batch_size=32, verbose=1)\n",
        "    _, accuracy = model.evaluate(X[val_idx], y[val_idx], verbose=0)\n",
        "    cv_scores.append(accuracy)\n",
        "\n",
        "print(f'Cross-validation Scores: {cv_scores}')\n",
        "print(f'Mean Accuracy: {np.mean(cv_scores)}, Std: {np.std(cv_scores)}')\n",
        "\n",
        "\n",
        "\n"
      ],
      "metadata": {
        "colab": {
          "base_uri": "https://localhost:8080/"
        },
        "id": "X0A-pwjbOZ11",
        "outputId": "96ae0613-70f9-4dc5-fe2e-4428b8f5d088"
      },
      "execution_count": null,
      "outputs": [
        {
          "output_type": "stream",
          "name": "stdout",
          "text": [
            "Epoch 1/10\n",
            "25/25 [==============================] - 2s 18ms/step - loss: 4.2473 - accuracy: 0.1101\n",
            "Epoch 2/10\n",
            "25/25 [==============================] - 0s 16ms/step - loss: 2.5779 - accuracy: 0.1139\n",
            "Epoch 3/10\n",
            "25/25 [==============================] - 0s 17ms/step - loss: 2.4351 - accuracy: 0.1126\n",
            "Epoch 4/10\n",
            "25/25 [==============================] - 0s 17ms/step - loss: 2.3391 - accuracy: 0.1427\n",
            "Epoch 5/10\n",
            "25/25 [==============================] - 0s 17ms/step - loss: 2.2954 - accuracy: 0.1352\n",
            "Epoch 6/10\n",
            "25/25 [==============================] - 0s 17ms/step - loss: 2.2914 - accuracy: 0.1514\n",
            "Epoch 7/10\n",
            "25/25 [==============================] - 0s 19ms/step - loss: 2.2534 - accuracy: 0.1589\n",
            "Epoch 8/10\n",
            "25/25 [==============================] - 1s 25ms/step - loss: 2.2368 - accuracy: 0.1715\n",
            "Epoch 9/10\n",
            "25/25 [==============================] - 1s 23ms/step - loss: 2.1857 - accuracy: 0.2015\n",
            "Epoch 10/10\n",
            "25/25 [==============================] - 1s 25ms/step - loss: 2.1675 - accuracy: 0.2190\n",
            "Epoch 1/10\n",
            "25/25 [==============================] - 3s 17ms/step - loss: 4.1388 - accuracy: 0.1064\n",
            "Epoch 2/10\n",
            "25/25 [==============================] - 0s 17ms/step - loss: 2.6732 - accuracy: 0.0964\n",
            "Epoch 3/10\n",
            "25/25 [==============================] - 0s 16ms/step - loss: 2.4055 - accuracy: 0.0964\n",
            "Epoch 4/10\n",
            "25/25 [==============================] - 0s 19ms/step - loss: 2.4042 - accuracy: 0.1014\n",
            "Epoch 5/10\n",
            "25/25 [==============================] - 0s 18ms/step - loss: 2.3423 - accuracy: 0.1252\n",
            "Epoch 6/10\n",
            "25/25 [==============================] - 0s 17ms/step - loss: 2.3077 - accuracy: 0.1264\n",
            "Epoch 7/10\n",
            "25/25 [==============================] - 0s 19ms/step - loss: 2.3331 - accuracy: 0.1214\n",
            "Epoch 8/10\n",
            "25/25 [==============================] - 0s 17ms/step - loss: 2.2995 - accuracy: 0.1339\n",
            "Epoch 9/10\n",
            "25/25 [==============================] - 0s 19ms/step - loss: 2.2829 - accuracy: 0.1402\n",
            "Epoch 10/10\n",
            "25/25 [==============================] - 0s 17ms/step - loss: 2.2484 - accuracy: 0.1489\n",
            "Epoch 1/10\n",
            "25/25 [==============================] - 2s 17ms/step - loss: 4.6258 - accuracy: 0.0964\n",
            "Epoch 2/10\n",
            "25/25 [==============================] - 0s 17ms/step - loss: 2.6643 - accuracy: 0.1239\n",
            "Epoch 3/10\n",
            "25/25 [==============================] - 0s 18ms/step - loss: 2.3950 - accuracy: 0.1352\n",
            "Epoch 4/10\n",
            "25/25 [==============================] - 0s 18ms/step - loss: 2.3665 - accuracy: 0.1339\n",
            "Epoch 5/10\n",
            "25/25 [==============================] - 0s 18ms/step - loss: 2.3025 - accuracy: 0.1427\n",
            "Epoch 6/10\n",
            "25/25 [==============================] - 0s 19ms/step - loss: 2.2519 - accuracy: 0.1615\n",
            "Epoch 7/10\n",
            "25/25 [==============================] - 1s 26ms/step - loss: 2.2401 - accuracy: 0.1852\n",
            "Epoch 8/10\n",
            "25/25 [==============================] - 1s 24ms/step - loss: 2.2517 - accuracy: 0.1665\n",
            "Epoch 9/10\n",
            "25/25 [==============================] - 1s 26ms/step - loss: 2.2326 - accuracy: 0.1902\n",
            "Epoch 10/10\n",
            "25/25 [==============================] - 1s 24ms/step - loss: 2.1342 - accuracy: 0.2340\n",
            "Epoch 1/10\n",
            "25/25 [==============================] - 2s 18ms/step - loss: 5.0066 - accuracy: 0.1026\n",
            "Epoch 2/10\n",
            "25/25 [==============================] - 0s 18ms/step - loss: 2.6463 - accuracy: 0.1114\n",
            "Epoch 3/10\n",
            "25/25 [==============================] - 0s 18ms/step - loss: 2.4108 - accuracy: 0.1302\n",
            "Epoch 4/10\n",
            "25/25 [==============================] - 0s 19ms/step - loss: 2.3160 - accuracy: 0.1364\n",
            "Epoch 5/10\n",
            "25/25 [==============================] - 0s 19ms/step - loss: 2.2863 - accuracy: 0.1564\n",
            "Epoch 6/10\n",
            "25/25 [==============================] - 0s 17ms/step - loss: 2.2782 - accuracy: 0.1564\n",
            "Epoch 7/10\n",
            "25/25 [==============================] - 0s 19ms/step - loss: 2.2526 - accuracy: 0.1564\n",
            "Epoch 8/10\n",
            "25/25 [==============================] - 0s 16ms/step - loss: 2.2090 - accuracy: 0.2015\n",
            "Epoch 9/10\n",
            "25/25 [==============================] - 0s 17ms/step - loss: 2.2020 - accuracy: 0.1865\n",
            "Epoch 10/10\n",
            "25/25 [==============================] - 0s 18ms/step - loss: 2.1562 - accuracy: 0.2190\n",
            "Epoch 1/10\n",
            "25/25 [==============================] - 2s 19ms/step - loss: 4.6534 - accuracy: 0.0925\n",
            "Epoch 2/10\n",
            "25/25 [==============================] - 0s 18ms/step - loss: 2.6513 - accuracy: 0.1163\n",
            "Epoch 3/10\n",
            "25/25 [==============================] - 0s 18ms/step - loss: 2.3924 - accuracy: 0.1300\n",
            "Epoch 4/10\n",
            "25/25 [==============================] - 0s 18ms/step - loss: 2.3648 - accuracy: 0.1363\n",
            "Epoch 5/10\n",
            "25/25 [==============================] - 1s 22ms/step - loss: 2.3016 - accuracy: 0.1462\n",
            "Epoch 6/10\n",
            "25/25 [==============================] - 1s 30ms/step - loss: 2.2544 - accuracy: 0.1538\n",
            "Epoch 7/10\n",
            "25/25 [==============================] - 1s 29ms/step - loss: 2.2380 - accuracy: 0.1737\n",
            "Epoch 8/10\n",
            "25/25 [==============================] - 1s 29ms/step - loss: 2.2142 - accuracy: 0.1887\n",
            "Epoch 9/10\n",
            "25/25 [==============================] - 1s 26ms/step - loss: 2.1955 - accuracy: 0.1950\n",
            "Epoch 10/10\n",
            "25/25 [==============================] - 1s 28ms/step - loss: 2.1229 - accuracy: 0.2237\n",
            "Cross-validation Scores: [0.2849999964237213, 0.2150000035762787, 0.3499999940395355, 0.3700000047683716, 0.28140702843666077]\n",
            "Mean Accuracy: 0.3002814054489136, Std: 0.055127674025426454\n"
          ]
        }
      ]
    },
    {
      "cell_type": "markdown",
      "source": [
        "Akurasi MODEL"
      ],
      "metadata": {
        "id": "vyjbX7NrvnYp"
      }
    },
    {
      "cell_type": "code",
      "source": [
        "# Function to calculate the evaluation metrics\n",
        "def evaluate_model(y_true, y_pred):\n",
        "    accuracy = accuracy_score(y_true, y_pred)\n",
        "    precision = precision_score(y_true, y_pred, average='macro')\n",
        "    recall = recall_score(y_true, y_pred, average='macro')\n",
        "    f1 = f1_score(y_true, y_pred, average='macro')\n",
        "\n",
        "    print(f\"Accuracy: {accuracy}\")\n",
        "    print(f\"Precision: {precision}\")\n",
        "    print(f\"Recall: {recall}\")\n",
        "    print(f\"F1 Score: {f1}\")\n",
        "\n",
        "# Get predictions for the test set\n",
        "model.fit(X_train, y_train, epochs=50, batch_size=32, verbose=1)\n",
        "y_pred = model.predict(X_test)\n",
        "y_pred_classes = np.argmax(y_pred, axis=1)\n",
        "y_true_classes = np.argmax(y_test, axis=1)\n",
        "\n",
        "# Evaluate the model\n",
        "evaluate_model(y_true_classes, y_pred_classes)\n"
      ],
      "metadata": {
        "colab": {
          "base_uri": "https://localhost:8080/"
        },
        "id": "leT3GEGZJ-bh",
        "outputId": "db7721c9-face-47e7-a94f-fe963da669d1"
      },
      "execution_count": null,
      "outputs": [
        {
          "output_type": "stream",
          "name": "stdout",
          "text": [
            "Epoch 1/50\n",
            "25/25 [==============================] - 2s 19ms/step - loss: 2.0492 - accuracy: 0.2603\n",
            "Epoch 2/50\n",
            "25/25 [==============================] - 0s 19ms/step - loss: 2.0516 - accuracy: 0.2728\n",
            "Epoch 3/50\n",
            "25/25 [==============================] - 0s 18ms/step - loss: 2.0393 - accuracy: 0.2428\n",
            "Epoch 4/50\n",
            "25/25 [==============================] - 0s 19ms/step - loss: 2.0501 - accuracy: 0.2566\n",
            "Epoch 5/50\n",
            "25/25 [==============================] - 0s 19ms/step - loss: 2.0345 - accuracy: 0.2603\n",
            "Epoch 6/50\n",
            "25/25 [==============================] - 0s 18ms/step - loss: 1.9539 - accuracy: 0.2728\n",
            "Epoch 7/50\n",
            "25/25 [==============================] - 0s 19ms/step - loss: 1.9365 - accuracy: 0.2916\n",
            "Epoch 8/50\n",
            "25/25 [==============================] - 0s 19ms/step - loss: 1.9000 - accuracy: 0.2929\n",
            "Epoch 9/50\n",
            "25/25 [==============================] - 1s 21ms/step - loss: 1.8767 - accuracy: 0.3279\n",
            "Epoch 10/50\n",
            "25/25 [==============================] - 0s 19ms/step - loss: 1.8900 - accuracy: 0.3079\n",
            "Epoch 11/50\n",
            "25/25 [==============================] - 1s 20ms/step - loss: 1.8127 - accuracy: 0.3492\n",
            "Epoch 12/50\n",
            "25/25 [==============================] - 0s 18ms/step - loss: 1.7960 - accuracy: 0.3567\n",
            "Epoch 13/50\n",
            "25/25 [==============================] - 1s 20ms/step - loss: 1.8068 - accuracy: 0.3454\n",
            "Epoch 14/50\n",
            "25/25 [==============================] - 0s 18ms/step - loss: 1.7534 - accuracy: 0.3492\n",
            "Epoch 15/50\n",
            "25/25 [==============================] - 0s 20ms/step - loss: 1.7420 - accuracy: 0.3542\n",
            "Epoch 16/50\n",
            "25/25 [==============================] - 0s 18ms/step - loss: 1.7498 - accuracy: 0.3592\n",
            "Epoch 17/50\n",
            "25/25 [==============================] - 0s 20ms/step - loss: 1.7301 - accuracy: 0.3780\n",
            "Epoch 18/50\n",
            "25/25 [==============================] - 0s 18ms/step - loss: 1.7419 - accuracy: 0.3880\n",
            "Epoch 19/50\n",
            "25/25 [==============================] - 0s 19ms/step - loss: 1.6908 - accuracy: 0.3742\n",
            "Epoch 20/50\n",
            "25/25 [==============================] - 0s 18ms/step - loss: 1.6467 - accuracy: 0.4005\n",
            "Epoch 21/50\n",
            "25/25 [==============================] - 1s 28ms/step - loss: 1.6515 - accuracy: 0.3967\n",
            "Epoch 22/50\n",
            "25/25 [==============================] - 1s 27ms/step - loss: 1.6445 - accuracy: 0.4068\n",
            "Epoch 23/50\n",
            "25/25 [==============================] - 1s 27ms/step - loss: 1.6335 - accuracy: 0.3767\n",
            "Epoch 24/50\n",
            "25/25 [==============================] - 1s 29ms/step - loss: 1.5922 - accuracy: 0.3905\n",
            "Epoch 25/50\n",
            "25/25 [==============================] - 1s 30ms/step - loss: 1.5830 - accuracy: 0.4068\n",
            "Epoch 26/50\n",
            "25/25 [==============================] - 1s 27ms/step - loss: 1.5719 - accuracy: 0.4243\n",
            "Epoch 27/50\n",
            "25/25 [==============================] - 1s 30ms/step - loss: 1.5476 - accuracy: 0.4380\n",
            "Epoch 28/50\n",
            "25/25 [==============================] - 1s 22ms/step - loss: 1.5349 - accuracy: 0.4230\n",
            "Epoch 29/50\n",
            "25/25 [==============================] - 0s 19ms/step - loss: 1.4813 - accuracy: 0.4756\n",
            "Epoch 30/50\n",
            "25/25 [==============================] - 0s 19ms/step - loss: 1.5061 - accuracy: 0.4193\n",
            "Epoch 31/50\n",
            "25/25 [==============================] - 0s 19ms/step - loss: 1.4871 - accuracy: 0.4456\n",
            "Epoch 32/50\n",
            "25/25 [==============================] - 0s 19ms/step - loss: 1.5195 - accuracy: 0.4531\n",
            "Epoch 33/50\n",
            "25/25 [==============================] - 0s 19ms/step - loss: 1.5017 - accuracy: 0.4456\n",
            "Epoch 34/50\n",
            "25/25 [==============================] - 0s 19ms/step - loss: 1.4840 - accuracy: 0.4380\n",
            "Epoch 35/50\n",
            "25/25 [==============================] - 0s 19ms/step - loss: 1.4403 - accuracy: 0.4706\n",
            "Epoch 36/50\n",
            "25/25 [==============================] - 0s 20ms/step - loss: 1.3674 - accuracy: 0.4919\n",
            "Epoch 37/50\n",
            "25/25 [==============================] - 0s 18ms/step - loss: 1.3827 - accuracy: 0.5006\n",
            "Epoch 38/50\n",
            "25/25 [==============================] - 1s 20ms/step - loss: 1.3654 - accuracy: 0.4856\n",
            "Epoch 39/50\n",
            "25/25 [==============================] - 0s 17ms/step - loss: 1.3949 - accuracy: 0.4819\n",
            "Epoch 40/50\n",
            "25/25 [==============================] - 0s 20ms/step - loss: 1.3842 - accuracy: 0.5006\n",
            "Epoch 41/50\n",
            "25/25 [==============================] - 0s 18ms/step - loss: 1.3391 - accuracy: 0.5106\n",
            "Epoch 42/50\n",
            "25/25 [==============================] - 0s 19ms/step - loss: 1.3399 - accuracy: 0.5081\n",
            "Epoch 43/50\n",
            "25/25 [==============================] - 0s 20ms/step - loss: 1.3369 - accuracy: 0.5119\n",
            "Epoch 44/50\n",
            "25/25 [==============================] - 0s 20ms/step - loss: 1.3600 - accuracy: 0.4756\n",
            "Epoch 45/50\n",
            "25/25 [==============================] - 0s 18ms/step - loss: 1.3412 - accuracy: 0.5044\n",
            "Epoch 46/50\n",
            "25/25 [==============================] - 0s 19ms/step - loss: 1.2653 - accuracy: 0.5282\n",
            "Epoch 47/50\n",
            "25/25 [==============================] - 1s 20ms/step - loss: 1.2612 - accuracy: 0.5569\n",
            "Epoch 48/50\n",
            "25/25 [==============================] - 0s 19ms/step - loss: 1.2067 - accuracy: 0.5594\n",
            "Epoch 49/50\n",
            "25/25 [==============================] - 1s 29ms/step - loss: 1.2272 - accuracy: 0.5344\n",
            "Epoch 50/50\n",
            "25/25 [==============================] - 1s 28ms/step - loss: 1.1962 - accuracy: 0.5657\n",
            "7/7 [==============================] - 0s 6ms/step\n",
            "Accuracy: 0.465\n",
            "Precision: 0.5226051039603671\n",
            "Recall: 0.5170123515775689\n",
            "F1 Score: 0.4964867654401333\n"
          ]
        }
      ]
    }
  ],
  "metadata": {
    "colab": {
      "provenance": []
    },
    "kernelspec": {
      "display_name": "Python 3",
      "name": "python3"
    }
  },
  "nbformat": 4,
  "nbformat_minor": 0
}